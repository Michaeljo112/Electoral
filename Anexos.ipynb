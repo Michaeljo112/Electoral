{
 "cells": [
  {
   "cell_type": "code",
   "execution_count": 1,
   "id": "3f485a8a",
   "metadata": {},
   "outputs": [],
   "source": [
    "# Exporte de diccionario para hacer manual\n",
    "import pandas as pd"
   ]
  },
  {
   "cell_type": "code",
   "execution_count": 4,
   "id": "03e9676d",
   "metadata": {},
   "outputs": [],
   "source": [
    "can = pd.read_excel('Data/Serce_2019-2020/SBAC19_diccionariomicro_20200325_DIC.xlsx', \n",
    "                    sheet_name='Cantón', dtype={'Código de Cantón': str})\n",
    "par = pd.read_excel('Data/Serce_2019-2020/SBAC19_diccionariomicro_20200325_DIC.xlsx', \n",
    "                    sheet_name='Parroquia',\n",
    "                    dtype={'Código de Parroquia': str}\n",
    "                   )"
   ]
  },
  {
   "cell_type": "code",
   "execution_count": 9,
   "id": "f95e4690",
   "metadata": {},
   "outputs": [
    {
     "data": {
      "text/html": [
       "<div>\n",
       "<style scoped>\n",
       "    .dataframe tbody tr th:only-of-type {\n",
       "        vertical-align: middle;\n",
       "    }\n",
       "\n",
       "    .dataframe tbody tr th {\n",
       "        vertical-align: top;\n",
       "    }\n",
       "\n",
       "    .dataframe thead th {\n",
       "        text-align: right;\n",
       "    }\n",
       "</style>\n",
       "<table border=\"1\" class=\"dataframe\">\n",
       "  <thead>\n",
       "    <tr style=\"text-align: right;\">\n",
       "      <th></th>\n",
       "      <th>Código de Cantón</th>\n",
       "      <th>Nombre de la Cantón</th>\n",
       "    </tr>\n",
       "  </thead>\n",
       "  <tbody>\n",
       "    <tr>\n",
       "      <th>0</th>\n",
       "      <td>0101</td>\n",
       "      <td>Cuenca</td>\n",
       "    </tr>\n",
       "    <tr>\n",
       "      <th>1</th>\n",
       "      <td>0102</td>\n",
       "      <td>Girón</td>\n",
       "    </tr>\n",
       "    <tr>\n",
       "      <th>2</th>\n",
       "      <td>0103</td>\n",
       "      <td>Gualaceo</td>\n",
       "    </tr>\n",
       "    <tr>\n",
       "      <th>3</th>\n",
       "      <td>0104</td>\n",
       "      <td>Nabón</td>\n",
       "    </tr>\n",
       "  </tbody>\n",
       "</table>\n",
       "</div>"
      ],
      "text/plain": [
       "  Código de Cantón Nombre de la Cantón\n",
       "0             0101              Cuenca\n",
       "1             0102               Girón\n",
       "2             0103            Gualaceo\n",
       "3             0104               Nabón"
      ]
     },
     "execution_count": 9,
     "metadata": {},
     "output_type": "execute_result"
    }
   ],
   "source": [
    "can.head(4)"
   ]
  },
  {
   "cell_type": "code",
   "execution_count": 10,
   "id": "467b2f1e",
   "metadata": {},
   "outputs": [
    {
     "data": {
      "text/html": [
       "<div>\n",
       "<style scoped>\n",
       "    .dataframe tbody tr th:only-of-type {\n",
       "        vertical-align: middle;\n",
       "    }\n",
       "\n",
       "    .dataframe tbody tr th {\n",
       "        vertical-align: top;\n",
       "    }\n",
       "\n",
       "    .dataframe thead th {\n",
       "        text-align: right;\n",
       "    }\n",
       "</style>\n",
       "<table border=\"1\" class=\"dataframe\">\n",
       "  <thead>\n",
       "    <tr style=\"text-align: right;\">\n",
       "      <th></th>\n",
       "      <th>Código de Parroquia</th>\n",
       "      <th>Nombre de la Parroquia</th>\n",
       "    </tr>\n",
       "  </thead>\n",
       "  <tbody>\n",
       "    <tr>\n",
       "      <th>0</th>\n",
       "      <td>010101</td>\n",
       "      <td>Bellavista</td>\n",
       "    </tr>\n",
       "    <tr>\n",
       "      <th>1</th>\n",
       "      <td>010102</td>\n",
       "      <td>Cañaribamba</td>\n",
       "    </tr>\n",
       "    <tr>\n",
       "      <th>2</th>\n",
       "      <td>010103</td>\n",
       "      <td>El Batán</td>\n",
       "    </tr>\n",
       "    <tr>\n",
       "      <th>3</th>\n",
       "      <td>010104</td>\n",
       "      <td>El Sagrario</td>\n",
       "    </tr>\n",
       "  </tbody>\n",
       "</table>\n",
       "</div>"
      ],
      "text/plain": [
       "  Código de Parroquia Nombre de la Parroquia\n",
       "0              010101             Bellavista\n",
       "1              010102            Cañaribamba\n",
       "2              010103               El Batán\n",
       "3              010104            El Sagrario"
      ]
     },
     "execution_count": 10,
     "metadata": {},
     "output_type": "execute_result"
    }
   ],
   "source": [
    "par.head(4)"
   ]
  },
  {
   "cell_type": "code",
   "execution_count": 13,
   "id": "c4ee5827",
   "metadata": {},
   "outputs": [],
   "source": [
    "par['Código de Cantón'] = par['Código de Parroquia'].str.slice(stop=4)"
   ]
  },
  {
   "cell_type": "code",
   "execution_count": 15,
   "id": "cf197db9",
   "metadata": {},
   "outputs": [],
   "source": [
    "export = par.merge(can, on='Código de Cantón')\n",
    "export.to_excel('Data/codes2.xlsx', index_label=False)"
   ]
  }
 ],
 "metadata": {
  "kernelspec": {
   "display_name": "Electoral",
   "language": "python",
   "name": "electoral"
  },
  "language_info": {
   "codemirror_mode": {
    "name": "ipython",
    "version": 3
   },
   "file_extension": ".py",
   "mimetype": "text/x-python",
   "name": "python",
   "nbconvert_exporter": "python",
   "pygments_lexer": "ipython3",
   "version": "3.9.1"
  }
 },
 "nbformat": 4,
 "nbformat_minor": 5
}
