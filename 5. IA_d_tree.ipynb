{
 "cells": [
  {
   "cell_type": "markdown",
   "id": "bdb7f0a5",
   "metadata": {},
   "source": [
    "# Ajustes previos"
   ]
  },
  {
   "cell_type": "code",
   "execution_count": 25,
   "id": "dd060016",
   "metadata": {},
   "outputs": [
    {
     "data": {
      "text/html": [
       "<div>\n",
       "<style scoped>\n",
       "    .dataframe tbody tr th:only-of-type {\n",
       "        vertical-align: middle;\n",
       "    }\n",
       "\n",
       "    .dataframe tbody tr th {\n",
       "        vertical-align: top;\n",
       "    }\n",
       "\n",
       "    .dataframe thead th {\n",
       "        text-align: right;\n",
       "    }\n",
       "</style>\n",
       "<table border=\"1\" class=\"dataframe\">\n",
       "  <thead>\n",
       "    <tr style=\"text-align: right;\">\n",
       "      <th></th>\n",
       "      <th>Identificador de persona</th>\n",
       "      <th>Identificador de hogar</th>\n",
       "      <th>Area</th>\n",
       "      <th>Sexo</th>\n",
       "      <th>Edad</th>\n",
       "      <th>Seguro Social - Alternativa 1</th>\n",
       "      <th>Seguro Social - Alternativa 2</th>\n",
       "      <th>Estado civil</th>\n",
       "      <th>Nivel de instrucción</th>\n",
       "      <th>Nivel de instrucción.1</th>\n",
       "      <th>...</th>\n",
       "      <th>Parientes</th>\n",
       "      <th>No parientes</th>\n",
       "      <th>Empleado(a) doméstico(a)</th>\n",
       "      <th>Tipology</th>\n",
       "      <th>PARROQUIA_CODIGO</th>\n",
       "      <th>Número de mujeres en el hogar</th>\n",
       "      <th>Número de personas del hogar</th>\n",
       "      <th>Elección política</th>\n",
       "      <th>Votos proporcionales</th>\n",
       "      <th>random</th>\n",
       "    </tr>\n",
       "  </thead>\n",
       "  <tbody>\n",
       "    <tr>\n",
       "      <th>0</th>\n",
       "      <td>10015290090200507101</td>\n",
       "      <td>100152900902005071</td>\n",
       "      <td>Rural</td>\n",
       "      <td>Mujer</td>\n",
       "      <td>74.0</td>\n",
       "      <td>IESS, seguro general</td>\n",
       "      <td>Ninguno</td>\n",
       "      <td>Separado(a)</td>\n",
       "      <td>Primaria</td>\n",
       "      <td>Educación Básica</td>\n",
       "      <td>...</td>\n",
       "      <td>0</td>\n",
       "      <td>0</td>\n",
       "      <td>0</td>\n",
       "      <td>Hogar tipo 1</td>\n",
       "      <td>100152</td>\n",
       "      <td>1</td>\n",
       "      <td>1</td>\n",
       "      <td>1030</td>\n",
       "      <td>3</td>\n",
       "      <td>5</td>\n",
       "    </tr>\n",
       "    <tr>\n",
       "      <th>1</th>\n",
       "      <td>10015290090200507101</td>\n",
       "      <td>100152900902005071</td>\n",
       "      <td>Rural</td>\n",
       "      <td>Mujer</td>\n",
       "      <td>74.0</td>\n",
       "      <td>IESS, seguro general</td>\n",
       "      <td>Ninguno</td>\n",
       "      <td>Separado(a)</td>\n",
       "      <td>Primaria</td>\n",
       "      <td>Educación Básica</td>\n",
       "      <td>...</td>\n",
       "      <td>0</td>\n",
       "      <td>0</td>\n",
       "      <td>0</td>\n",
       "      <td>Hogar tipo 1</td>\n",
       "      <td>100152</td>\n",
       "      <td>1</td>\n",
       "      <td>1</td>\n",
       "      <td>18</td>\n",
       "      <td>1</td>\n",
       "      <td>6</td>\n",
       "    </tr>\n",
       "    <tr>\n",
       "      <th>2</th>\n",
       "      <td>10015290090200507101</td>\n",
       "      <td>100152900902005071</td>\n",
       "      <td>Rural</td>\n",
       "      <td>Mujer</td>\n",
       "      <td>74.0</td>\n",
       "      <td>IESS, seguro general</td>\n",
       "      <td>Ninguno</td>\n",
       "      <td>Separado(a)</td>\n",
       "      <td>Primaria</td>\n",
       "      <td>Educación Básica</td>\n",
       "      <td>...</td>\n",
       "      <td>0</td>\n",
       "      <td>0</td>\n",
       "      <td>0</td>\n",
       "      <td>Hogar tipo 1</td>\n",
       "      <td>100152</td>\n",
       "      <td>1</td>\n",
       "      <td>1</td>\n",
       "      <td>2</td>\n",
       "      <td>2</td>\n",
       "      <td>12</td>\n",
       "    </tr>\n",
       "    <tr>\n",
       "      <th>3</th>\n",
       "      <td>10015290090200507101</td>\n",
       "      <td>100152900902005071</td>\n",
       "      <td>Rural</td>\n",
       "      <td>Mujer</td>\n",
       "      <td>74.0</td>\n",
       "      <td>IESS, seguro general</td>\n",
       "      <td>Ninguno</td>\n",
       "      <td>Separado(a)</td>\n",
       "      <td>Primaria</td>\n",
       "      <td>Educación Básica</td>\n",
       "      <td>...</td>\n",
       "      <td>0</td>\n",
       "      <td>0</td>\n",
       "      <td>0</td>\n",
       "      <td>Hogar tipo 1</td>\n",
       "      <td>100152</td>\n",
       "      <td>1</td>\n",
       "      <td>1</td>\n",
       "      <td>Ausentes</td>\n",
       "      <td>3</td>\n",
       "      <td>9</td>\n",
       "    </tr>\n",
       "  </tbody>\n",
       "</table>\n",
       "<p>4 rows × 44 columns</p>\n",
       "</div>"
      ],
      "text/plain": [
       "  Identificador de persona  Identificador de hogar    Area    Sexo  Edad  \\\n",
       "0     10015290090200507101      100152900902005071   Rural   Mujer  74.0   \n",
       "1     10015290090200507101      100152900902005071   Rural   Mujer  74.0   \n",
       "2     10015290090200507101      100152900902005071   Rural   Mujer  74.0   \n",
       "3     10015290090200507101      100152900902005071   Rural   Mujer  74.0   \n",
       "\n",
       "  Seguro Social - Alternativa 1 Seguro Social - Alternativa 2  Estado civil  \\\n",
       "0          IESS, seguro general                       Ninguno   Separado(a)   \n",
       "1          IESS, seguro general                       Ninguno   Separado(a)   \n",
       "2          IESS, seguro general                       Ninguno   Separado(a)   \n",
       "3          IESS, seguro general                       Ninguno   Separado(a)   \n",
       "\n",
       "  Nivel de instrucción Nivel de instrucción.1  ... Parientes No parientes  \\\n",
       "0             Primaria       Educación Básica  ...         0            0   \n",
       "1             Primaria       Educación Básica  ...         0            0   \n",
       "2             Primaria       Educación Básica  ...         0            0   \n",
       "3             Primaria       Educación Básica  ...         0            0   \n",
       "\n",
       "  Empleado(a) doméstico(a)      Tipology PARROQUIA_CODIGO  \\\n",
       "0                        0  Hogar tipo 1           100152   \n",
       "1                        0  Hogar tipo 1           100152   \n",
       "2                        0  Hogar tipo 1           100152   \n",
       "3                        0  Hogar tipo 1           100152   \n",
       "\n",
       "  Número de mujeres en el hogar Número de personas del hogar  \\\n",
       "0                             1                            1   \n",
       "1                             1                            1   \n",
       "2                             1                            1   \n",
       "3                             1                            1   \n",
       "\n",
       "  Elección política  Votos proporcionales random  \n",
       "0              1030                     3      5  \n",
       "1                18                     1      6  \n",
       "2                 2                     2     12  \n",
       "3          Ausentes                     3      9  \n",
       "\n",
       "[4 rows x 44 columns]"
      ]
     },
     "execution_count": 25,
     "metadata": {},
     "output_type": "execute_result"
    }
   ],
   "source": [
    "# load datasets (students Portuguese scores)\n",
    "\n",
    "import pandas as pd\n",
    "\n",
    "d = pd.read_csv('Data/df_regresion.csv')\n",
    "d.head(4)"
   ]
  },
  {
   "cell_type": "code",
   "execution_count": 26,
   "id": "b6a93100",
   "metadata": {},
   "outputs": [
    {
     "data": {
      "text/plain": [
       "Index(['Identificador de persona', 'Identificador de hogar', 'Area', 'Sexo',\n",
       "       'Edad', 'Seguro Social - Alternativa 1',\n",
       "       'Seguro Social - Alternativa 2', 'Estado civil', 'Nivel de instrucción',\n",
       "       'Nivel de instrucción.1', 'Cómo se considera',\n",
       "       'Condición de inactividad', 'Categoría de ocupación',\n",
       "       'Cuántos años trabaja', 'Condición de actividad', 'Ingreso Laboral',\n",
       "       'Grupo de Ocupación CIUO8 (población ocupada de 15 años y más)',\n",
       "       'Rama de Actividad CIIU4 (población ocupada de 15 años y más)',\n",
       "       'Ingreso per cápita', 'Pobreza', 'Extrema Pobreza',\n",
       "       'Forma de tenencia de la vivienda',\n",
       "       'Con relación al mes anterior, la situación económica de su hogar es:',\n",
       "       'Cómo cree usted que será la situación económica de su hogar dentro de los próximos 3 meses:',\n",
       "       'Planea usted o algún miembro del hogar adquirir un vehículo en los próximos 3 meses',\n",
       "       'Planea usted o algún miembro del hogar adquirir un inmueble (casa, departamento, pieza) en los próximos 3 meses',\n",
       "       'Usted o algún miembro del hogar tiene planes de endeudamiento en los próximos 3 meses (bancos, financieras, etc.)',\n",
       "       'Con relación al mes anterior, la situación económica del país es:',\n",
       "       'Usted considera que durante los próximos 3 meses la situación económica del país será:',\n",
       "       'En los 3 meses anteriores, considera que la situación en Ecuador para encontrar/mejorar un puesto de trabajo es:',\n",
       "       'Considera usted que la situación en Ecuador para encontrar/mejorar un puesto de trabajo dentro de 3 meses será:',\n",
       "       'Género del jefe/a de hogar', 'Cónyuge', 'Hijo o Hija', 'Parientes',\n",
       "       'No parientes', 'Empleado(a) doméstico(a)', 'Tipology',\n",
       "       'PARROQUIA_CODIGO', 'Número de mujeres en el hogar',\n",
       "       'Número de personas del hogar', 'Elección política',\n",
       "       'Votos proporcionales', 'random'],\n",
       "      dtype='object')"
      ]
     },
     "execution_count": 26,
     "metadata": {},
     "output_type": "execute_result"
    }
   ],
   "source": [
    "# Vamos a identificar las columnas para adecuador su tipo (str, float o int)\n",
    "\n",
    "d.columns"
   ]
  },
  {
   "cell_type": "code",
   "execution_count": 27,
   "id": "a0bb7d47",
   "metadata": {},
   "outputs": [],
   "source": [
    "# Depuramos variables que ya no son útiles para este análisis de árbol de decisión\n",
    "\n",
    "d = d.drop(columns=['Nivel de instrucción.1', \n",
    "                    'Identificador de persona', \n",
    "                    'Identificador de hogar', \n",
    "                    'Ingreso Laboral',\n",
    "                    'Ingreso per cápita',\n",
    "                    'random', \n",
    "                    'Grupo de Ocupación CIUO8 (población ocupada de 15 años y más)',\n",
    "                    'PARROQUIA_CODIGO',\n",
    "                    'Votos proporcionales'\n",
    "                   ]\n",
    "          )"
   ]
  },
  {
   "cell_type": "code",
   "execution_count": 28,
   "id": "a38e37fe",
   "metadata": {},
   "outputs": [],
   "source": [
    "# Creamos un diccionario para modificar el tipo de datos según deseemos\n",
    "\n",
    "NEW = {'Area': str,\n",
    "       'Sexo': str,\n",
    "       'Edad': float,\n",
    "       'Seguro Social - Alternativa 1': str,\n",
    "       'Seguro Social - Alternativa 2': str,\n",
    "       'Estado civil': str,\n",
    "       'Nivel de instrucción': str,\n",
    "       'Cómo se considera': str,\n",
    "       'Condición de inactividad': str,\n",
    "       'Categoría de ocupación': str,\n",
    "       'Cuántos años trabaja': float,\n",
    "       'Condición de actividad': str,\n",
    "       'Rama de Actividad CIIU4 (población ocupada de 15 años y más)': str,\n",
    "       'Pobreza': str,\n",
    "       'Extrema Pobreza': str,\n",
    "       'Forma de tenencia de la vivienda': str,\n",
    "       'Con relación al mes anterior, la situación económica de su hogar es:': str,\n",
    "       'Cómo cree usted que será la situación económica de su hogar dentro de los próximos 3 meses:': str,\n",
    "       'Planea usted o algún miembro del hogar adquirir un vehículo en los próximos 3 meses': str,\n",
    "       'Planea usted o algún miembro del hogar adquirir un inmueble (casa, departamento, pieza) en los próximos 3 meses': str,\n",
    "       'Usted o algún miembro del hogar tiene planes de endeudamiento en los próximos 3 meses (bancos, financieras, etc.)': str,\n",
    "       'Con relación al mes anterior, la situación económica del país es:': str,\n",
    "       'Usted considera que durante los próximos 3 meses la situación económica del país será:': str,\n",
    "       'En los 3 meses anteriores, considera que la situación en Ecuador para encontrar/mejorar un puesto de trabajo es:': str,\n",
    "       'Considera usted que la situación en Ecuador para encontrar/mejorar un puesto de trabajo dentro de 3 meses será:': str,\n",
    "       'Género del jefe/a de hogar': str,\n",
    "       'Cónyuge': int,\n",
    "       'Hijo o Hija': int,\n",
    "       'Parientes': int,\n",
    "       'No parientes': int,\n",
    "       'Empleado(a) doméstico(a)': int,\n",
    "       'Tipology': str,\n",
    "       'Número de mujeres en el hogar': int,\n",
    "       'Número de personas del hogar': int, \n",
    "       'Elección política': str\n",
    "      }\n",
    "\n",
    "d = d.astype(NEW)"
   ]
  },
  {
   "cell_type": "markdown",
   "id": "565bf678",
   "metadata": {},
   "source": [
    "Vamos a simplificar el modelo clasificando la elección política en 2: asignando 1 para los que votaron por UNES y 2 para los que no. "
   ]
  },
  {
   "cell_type": "code",
   "execution_count": 29,
   "id": "c5f34a11",
   "metadata": {},
   "outputs": [],
   "source": [
    "# El código para la op 1030 indica si se voto por FUERZA COMPROMISO SOCIAL \n",
    "\n",
    "d['Elección política'] = d['Elección política'].apply(lambda election: 1 if election == '1030' else 0)"
   ]
  },
  {
   "cell_type": "markdown",
   "id": "0feebdd6",
   "metadata": {},
   "source": [
    "Vamos a ajustar la base, para evitar los NaNs, pues es imposible trabajar con ellos."
   ]
  },
  {
   "cell_type": "markdown",
   "id": "f186045c",
   "metadata": {},
   "source": [
    "Detalle de ajustes:\n",
    "\n",
    "Vamos a reemplazarlos valores perdidos como sigue:\n",
    "\n",
    "1. Condensar las filas *Condición de inactividad* y *Condición de ocupación* en una sola fila llamada *Condición de ocupación*. Una vez hecho esto, los NaNs que aún sobren serán catalogados como *Otro motivo*.\n",
    "2. Vamos a rellenar los NaNs de la variable categoría de ocupación con *No declara*.\n",
    "3. Vamos a rellenar los NaNs o blancos de la variable cuántos años trabaja con 0.\n",
    "4. Vamos a crear una solo variable para las variables *Pobreza* Y *Extrema pobreza* llamada *Tipo de pobreza*.\n",
    "5. El *Grupo de Ocupación CIUO8 (población ocupada de 15 años y más)* y *Rama de Actividad CIIU4 (población ocupada de 15 años y más* serán depuradas con un reemplzados de NaNs por *Es inactivo*.\n",
    "6. Los valores de *Ingreso per cápita* perdidos se van a excluir.\n"
   ]
  },
  {
   "cell_type": "code",
   "execution_count": 30,
   "id": "20567210",
   "metadata": {},
   "outputs": [],
   "source": [
    "# Hago que nan sea reconocido como ninguno\n",
    "\n",
    "d = d.replace('nan', None)\n",
    "\n",
    "# Reemplazo valores de la variable Condición de ocupación con Condición de inactividad\n",
    "\n",
    "d['Condición de actividad'].fillna(d['Condición de inactividad'], inplace=True)\n",
    "d['Condición de actividad'].fillna('Otro motivo', inplace=True)\n",
    "# Elimino la variable que ya no será útil\n",
    "\n",
    "del d['Condición de inactividad']"
   ]
  },
  {
   "cell_type": "code",
   "execution_count": 31,
   "id": "5d8d5aca",
   "metadata": {},
   "outputs": [],
   "source": [
    "# El resto de modificaciones:\n",
    "\n",
    "d = d.replace('nan', None)\n",
    "\n",
    "d['Categoría de ocupación'].fillna('No declara', inplace=True)\n",
    "d['Cuántos años trabaja'].fillna(0, inplace=True)\n",
    "\n",
    "# Creamos una sola variable que se llame tipo de pobreza \n",
    "\n",
    "d['Pobreza'].fillna(d['Extrema Pobreza'], inplace=True)\n",
    "d['Pobreza'].fillna('Ninguna', inplace=True) # Lleno los que aún no han sido clasficados\n",
    "\n",
    "# Elimino la variable que ya no será útil\n",
    "\n",
    "del d['Extrema Pobreza']\n",
    "\n",
    "# y renombro la variable\n",
    "\n",
    "d.rename(columns={'Pobreza': 'Tipo de pobreza'})\n",
    "\n",
    "d['Rama de Actividad CIIU4 (población ocupada de 15 años y más)'].fillna('Es inactivo', inplace=True)\n"
   ]
  },
  {
   "cell_type": "markdown",
   "id": "c4df7ce2",
   "metadata": {},
   "source": [
    "## Un ajuste inadvertido, pero costoso"
   ]
  },
  {
   "cell_type": "markdown",
   "id": "fcbf05f6",
   "metadata": {},
   "source": [
    "Quiero que el lector sea consciente de que si no aproxima los decimales a 2 cifras, la librería no podrá hacer la simulación."
   ]
  },
  {
   "cell_type": "code",
   "execution_count": 32,
   "id": "b5468e09",
   "metadata": {},
   "outputs": [
    {
     "data": {
      "text/plain": [
       "{'Area': dtype('O'),\n",
       " 'Sexo': dtype('O'),\n",
       " 'Edad': dtype('float64'),\n",
       " 'Seguro Social - Alternativa 1': dtype('O'),\n",
       " 'Seguro Social - Alternativa 2': dtype('O'),\n",
       " 'Estado civil': dtype('O'),\n",
       " 'Nivel de instrucción': dtype('O'),\n",
       " 'Cómo se considera': dtype('O'),\n",
       " 'Categoría de ocupación': dtype('O'),\n",
       " 'Cuántos años trabaja': dtype('float64'),\n",
       " 'Condición de actividad': dtype('O'),\n",
       " 'Rama de Actividad CIIU4 (población ocupada de 15 años y más)': dtype('O'),\n",
       " 'Pobreza': dtype('O'),\n",
       " 'Forma de tenencia de la vivienda': dtype('O'),\n",
       " 'Con relación al mes anterior, la situación económica de su hogar es:': dtype('O'),\n",
       " 'Cómo cree usted que será la situación económica de su hogar dentro de los próximos 3 meses:': dtype('O'),\n",
       " 'Planea usted o algún miembro del hogar adquirir un vehículo en los próximos 3 meses': dtype('O'),\n",
       " 'Planea usted o algún miembro del hogar adquirir un inmueble (casa, departamento, pieza) en los próximos 3 meses': dtype('O'),\n",
       " 'Usted o algún miembro del hogar tiene planes de endeudamiento en los próximos 3 meses (bancos, financieras, etc.)': dtype('O'),\n",
       " 'Con relación al mes anterior, la situación económica del país es:': dtype('O'),\n",
       " 'Usted considera que durante los próximos 3 meses la situación económica del país será:': dtype('O'),\n",
       " 'En los 3 meses anteriores, considera que la situación en Ecuador para encontrar/mejorar un puesto de trabajo es:': dtype('O'),\n",
       " 'Considera usted que la situación en Ecuador para encontrar/mejorar un puesto de trabajo dentro de 3 meses será:': dtype('O'),\n",
       " 'Género del jefe/a de hogar': dtype('O'),\n",
       " 'Cónyuge': dtype('int32'),\n",
       " 'Hijo o Hija': dtype('int32'),\n",
       " 'Parientes': dtype('int32'),\n",
       " 'No parientes': dtype('int32'),\n",
       " 'Empleado(a) doméstico(a)': dtype('int32'),\n",
       " 'Tipology': dtype('O'),\n",
       " 'Número de mujeres en el hogar': dtype('int32'),\n",
       " 'Número de personas del hogar': dtype('int32'),\n",
       " 'Elección política': dtype('int64')}"
      ]
     },
     "execution_count": 32,
     "metadata": {},
     "output_type": "execute_result"
    }
   ],
   "source": [
    "dict(d.dtypes)"
   ]
  },
  {
   "cell_type": "code",
   "execution_count": 33,
   "id": "31185d94",
   "metadata": {},
   "outputs": [],
   "source": [
    "d['Cuántos años trabaja'] = d['Cuántos años trabaja'].astype(int)"
   ]
  },
  {
   "cell_type": "markdown",
   "id": "48909a55",
   "metadata": {},
   "source": [
    "Creamos una lista de variables para hacer dummies"
   ]
  },
  {
   "cell_type": "code",
   "execution_count": 34,
   "id": "802185f2",
   "metadata": {},
   "outputs": [],
   "source": [
    "# Creamos la lista\n",
    "\n",
    "VAR = ['Area',\n",
    "       'Sexo',\n",
    "       'Seguro Social - Alternativa 1',\n",
    "       'Seguro Social - Alternativa 2',\n",
    "       'Estado civil',\n",
    "       'Nivel de instrucción',\n",
    "       'Cómo se considera',\n",
    "       'Categoría de ocupación',\n",
    "       'Condición de actividad',\n",
    "       'Rama de Actividad CIIU4 (población ocupada de 15 años y más)',\n",
    "       'Tipo de pobreza',\n",
    "       'Forma de tenencia de la vivienda',\n",
    "       'Con relación al mes anterior, la situación económica de su hogar es:',\n",
    "       'Cómo cree usted que será la situación económica de su hogar dentro de los próximos 3 meses:',\n",
    "       'Planea usted o algún miembro del hogar adquirir un vehículo en los próximos 3 meses',\n",
    "       'Planea usted o algún miembro del hogar adquirir un inmueble (casa, departamento, pieza) en los próximos 3 meses',\n",
    "       'Usted o algún miembro del hogar tiene planes de endeudamiento en los próximos 3 meses (bancos, financieras, etc.)',\n",
    "       'Con relación al mes anterior, la situación económica del país es:',\n",
    "       'Usted considera que durante los próximos 3 meses la situación económica del país será:',\n",
    "       'En los 3 meses anteriores, considera que la situación en Ecuador para encontrar/mejorar un puesto de trabajo es:',\n",
    "       'Considera usted que la situación en Ecuador para encontrar/mejorar un puesto de trabajo dentro de 3 meses será:',\n",
    "       'Género del jefe/a de hogar',\n",
    "       'Tipology']"
   ]
  },
  {
   "cell_type": "code",
   "execution_count": 35,
   "id": "2bbadf64",
   "metadata": {},
   "outputs": [],
   "source": [
    "# Configiguramos la base d con dummies, sin nas\n",
    "\n",
    "d = pd.get_dummies(d, VAR, dummy_na=False)"
   ]
  },
  {
   "cell_type": "markdown",
   "id": "16cc3cff",
   "metadata": {},
   "source": [
    "# Decision tree"
   ]
  },
  {
   "cell_type": "code",
   "execution_count": 36,
   "id": "329cad31",
   "metadata": {},
   "outputs": [
    {
     "data": {
      "text/plain": [
       "(8503, 124)"
      ]
     },
     "execution_count": 36,
     "metadata": {},
     "output_type": "execute_result"
    }
   ],
   "source": [
    "d.shape"
   ]
  },
  {
   "cell_type": "code",
   "execution_count": 37,
   "id": "1fae28d3",
   "metadata": {},
   "outputs": [],
   "source": [
    "# Separo a los datos en 2 grupos\n",
    "\n",
    "N_A, N_B = d.shape[0]*0.5, 1 - d.shape[0]*0.5\n",
    "\n",
    "d_train = d[:int(N_A)] # separa la muestra para los primeros 500\n",
    "d_test = d[int(N_B)+1:] # separa la muestra para los finales 500"
   ]
  },
  {
   "cell_type": "code",
   "execution_count": 38,
   "id": "07ebae87",
   "metadata": {},
   "outputs": [],
   "source": [
    "# d_train_tss es una matriz de variables independientes\n",
    "\n",
    "\n",
    "d_train_tss = d_train.drop(['Elección política'], axis=1)\n",
    "\n",
    "# d_train_pass es un vector con información de la variable dependiente\n",
    "\n",
    "d_train_pass = d_train['Elección política']"
   ]
  },
  {
   "cell_type": "code",
   "execution_count": 39,
   "id": "b2a2587a",
   "metadata": {},
   "outputs": [],
   "source": [
    "# Misma lógica para el grupo de testeo \n",
    "\n",
    "d_test_tss = d_test.drop(['Elección política'], axis=1)\n",
    "d_test_pass = d_test['Elección política']"
   ]
  },
  {
   "cell_type": "code",
   "execution_count": 40,
   "id": "eaa4d32b",
   "metadata": {},
   "outputs": [],
   "source": [
    "# Toda la base\n",
    "\n",
    "d_att = d.drop(['Elección política'], axis=1)\n",
    "d_pass = d['Elección política']"
   ]
  },
  {
   "cell_type": "code",
   "execution_count": 41,
   "id": "d40c7b30",
   "metadata": {},
   "outputs": [
    {
     "name": "stdout",
     "output_type": "stream",
     "text": [
      "Pasaron 988 del 8503 (11.62%)\n"
     ]
    }
   ],
   "source": [
    "# Para saber cuántos votos de la base fueron dados a UNES\n",
    "\n",
    "import numpy as np\n",
    "\n",
    "print('Pasaron %d del %d (%.2f%%)' % (np.sum(d_pass), len(d_pass), 100*float(np.sum(d_pass)/len(d_pass))))"
   ]
  },
  {
   "cell_type": "code",
   "execution_count": 42,
   "id": "faed5dc6",
   "metadata": {},
   "outputs": [
    {
     "ename": "KeyError",
     "evalue": "\"['pass'] not found in axis\"",
     "output_type": "error",
     "traceback": [
      "\u001b[1;31m---------------------------------------------------------------------------\u001b[0m",
      "\u001b[1;31mKeyError\u001b[0m                                  Traceback (most recent call last)",
      "\u001b[1;32m~\\AppData\\Local\\Temp/ipykernel_15212/725490215.py\u001b[0m in \u001b[0;36m<module>\u001b[1;34m\u001b[0m\n\u001b[1;32m----> 1\u001b[1;33m \u001b[0md_att\u001b[0m \u001b[1;33m=\u001b[0m \u001b[0md\u001b[0m\u001b[1;33m.\u001b[0m\u001b[0mdrop\u001b[0m\u001b[1;33m(\u001b[0m\u001b[1;33m[\u001b[0m\u001b[1;34m'pass'\u001b[0m\u001b[1;33m]\u001b[0m\u001b[1;33m,\u001b[0m \u001b[0maxis\u001b[0m\u001b[1;33m=\u001b[0m\u001b[1;36m1\u001b[0m\u001b[1;33m)\u001b[0m\u001b[1;33m\u001b[0m\u001b[1;33m\u001b[0m\u001b[0m\n\u001b[0m\u001b[0;32m      2\u001b[0m \u001b[0md_pass\u001b[0m \u001b[1;33m=\u001b[0m \u001b[0md\u001b[0m\u001b[1;33m[\u001b[0m\u001b[1;34m'pass'\u001b[0m\u001b[1;33m]\u001b[0m\u001b[1;33m\u001b[0m\u001b[1;33m\u001b[0m\u001b[0m\n",
      "\u001b[1;32m~\\Documents\\Electoral\\Electoral\\lib\\site-packages\\pandas\\util\\_decorators.py\u001b[0m in \u001b[0;36mwrapper\u001b[1;34m(*args, **kwargs)\u001b[0m\n\u001b[0;32m    309\u001b[0m                     \u001b[0mstacklevel\u001b[0m\u001b[1;33m=\u001b[0m\u001b[0mstacklevel\u001b[0m\u001b[1;33m,\u001b[0m\u001b[1;33m\u001b[0m\u001b[1;33m\u001b[0m\u001b[0m\n\u001b[0;32m    310\u001b[0m                 )\n\u001b[1;32m--> 311\u001b[1;33m             \u001b[1;32mreturn\u001b[0m \u001b[0mfunc\u001b[0m\u001b[1;33m(\u001b[0m\u001b[1;33m*\u001b[0m\u001b[0margs\u001b[0m\u001b[1;33m,\u001b[0m \u001b[1;33m**\u001b[0m\u001b[0mkwargs\u001b[0m\u001b[1;33m)\u001b[0m\u001b[1;33m\u001b[0m\u001b[1;33m\u001b[0m\u001b[0m\n\u001b[0m\u001b[0;32m    312\u001b[0m \u001b[1;33m\u001b[0m\u001b[0m\n\u001b[0;32m    313\u001b[0m         \u001b[1;32mreturn\u001b[0m \u001b[0mwrapper\u001b[0m\u001b[1;33m\u001b[0m\u001b[1;33m\u001b[0m\u001b[0m\n",
      "\u001b[1;32m~\\Documents\\Electoral\\Electoral\\lib\\site-packages\\pandas\\core\\frame.py\u001b[0m in \u001b[0;36mdrop\u001b[1;34m(self, labels, axis, index, columns, level, inplace, errors)\u001b[0m\n\u001b[0;32m   4904\u001b[0m                 \u001b[0mweight\u001b[0m  \u001b[1;36m1.0\u001b[0m     \u001b[1;36m0.8\u001b[0m\u001b[1;33m\u001b[0m\u001b[1;33m\u001b[0m\u001b[0m\n\u001b[0;32m   4905\u001b[0m         \"\"\"\n\u001b[1;32m-> 4906\u001b[1;33m         return super().drop(\n\u001b[0m\u001b[0;32m   4907\u001b[0m             \u001b[0mlabels\u001b[0m\u001b[1;33m=\u001b[0m\u001b[0mlabels\u001b[0m\u001b[1;33m,\u001b[0m\u001b[1;33m\u001b[0m\u001b[1;33m\u001b[0m\u001b[0m\n\u001b[0;32m   4908\u001b[0m             \u001b[0maxis\u001b[0m\u001b[1;33m=\u001b[0m\u001b[0maxis\u001b[0m\u001b[1;33m,\u001b[0m\u001b[1;33m\u001b[0m\u001b[1;33m\u001b[0m\u001b[0m\n",
      "\u001b[1;32m~\\Documents\\Electoral\\Electoral\\lib\\site-packages\\pandas\\core\\generic.py\u001b[0m in \u001b[0;36mdrop\u001b[1;34m(self, labels, axis, index, columns, level, inplace, errors)\u001b[0m\n\u001b[0;32m   4148\u001b[0m         \u001b[1;32mfor\u001b[0m \u001b[0maxis\u001b[0m\u001b[1;33m,\u001b[0m \u001b[0mlabels\u001b[0m \u001b[1;32min\u001b[0m \u001b[0maxes\u001b[0m\u001b[1;33m.\u001b[0m\u001b[0mitems\u001b[0m\u001b[1;33m(\u001b[0m\u001b[1;33m)\u001b[0m\u001b[1;33m:\u001b[0m\u001b[1;33m\u001b[0m\u001b[1;33m\u001b[0m\u001b[0m\n\u001b[0;32m   4149\u001b[0m             \u001b[1;32mif\u001b[0m \u001b[0mlabels\u001b[0m \u001b[1;32mis\u001b[0m \u001b[1;32mnot\u001b[0m \u001b[1;32mNone\u001b[0m\u001b[1;33m:\u001b[0m\u001b[1;33m\u001b[0m\u001b[1;33m\u001b[0m\u001b[0m\n\u001b[1;32m-> 4150\u001b[1;33m                 \u001b[0mobj\u001b[0m \u001b[1;33m=\u001b[0m \u001b[0mobj\u001b[0m\u001b[1;33m.\u001b[0m\u001b[0m_drop_axis\u001b[0m\u001b[1;33m(\u001b[0m\u001b[0mlabels\u001b[0m\u001b[1;33m,\u001b[0m \u001b[0maxis\u001b[0m\u001b[1;33m,\u001b[0m \u001b[0mlevel\u001b[0m\u001b[1;33m=\u001b[0m\u001b[0mlevel\u001b[0m\u001b[1;33m,\u001b[0m \u001b[0merrors\u001b[0m\u001b[1;33m=\u001b[0m\u001b[0merrors\u001b[0m\u001b[1;33m)\u001b[0m\u001b[1;33m\u001b[0m\u001b[1;33m\u001b[0m\u001b[0m\n\u001b[0m\u001b[0;32m   4151\u001b[0m \u001b[1;33m\u001b[0m\u001b[0m\n\u001b[0;32m   4152\u001b[0m         \u001b[1;32mif\u001b[0m \u001b[0minplace\u001b[0m\u001b[1;33m:\u001b[0m\u001b[1;33m\u001b[0m\u001b[1;33m\u001b[0m\u001b[0m\n",
      "\u001b[1;32m~\\Documents\\Electoral\\Electoral\\lib\\site-packages\\pandas\\core\\generic.py\u001b[0m in \u001b[0;36m_drop_axis\u001b[1;34m(self, labels, axis, level, errors)\u001b[0m\n\u001b[0;32m   4183\u001b[0m                 \u001b[0mnew_axis\u001b[0m \u001b[1;33m=\u001b[0m \u001b[0maxis\u001b[0m\u001b[1;33m.\u001b[0m\u001b[0mdrop\u001b[0m\u001b[1;33m(\u001b[0m\u001b[0mlabels\u001b[0m\u001b[1;33m,\u001b[0m \u001b[0mlevel\u001b[0m\u001b[1;33m=\u001b[0m\u001b[0mlevel\u001b[0m\u001b[1;33m,\u001b[0m \u001b[0merrors\u001b[0m\u001b[1;33m=\u001b[0m\u001b[0merrors\u001b[0m\u001b[1;33m)\u001b[0m\u001b[1;33m\u001b[0m\u001b[1;33m\u001b[0m\u001b[0m\n\u001b[0;32m   4184\u001b[0m             \u001b[1;32melse\u001b[0m\u001b[1;33m:\u001b[0m\u001b[1;33m\u001b[0m\u001b[1;33m\u001b[0m\u001b[0m\n\u001b[1;32m-> 4185\u001b[1;33m                 \u001b[0mnew_axis\u001b[0m \u001b[1;33m=\u001b[0m \u001b[0maxis\u001b[0m\u001b[1;33m.\u001b[0m\u001b[0mdrop\u001b[0m\u001b[1;33m(\u001b[0m\u001b[0mlabels\u001b[0m\u001b[1;33m,\u001b[0m \u001b[0merrors\u001b[0m\u001b[1;33m=\u001b[0m\u001b[0merrors\u001b[0m\u001b[1;33m)\u001b[0m\u001b[1;33m\u001b[0m\u001b[1;33m\u001b[0m\u001b[0m\n\u001b[0m\u001b[0;32m   4186\u001b[0m             \u001b[0mresult\u001b[0m \u001b[1;33m=\u001b[0m \u001b[0mself\u001b[0m\u001b[1;33m.\u001b[0m\u001b[0mreindex\u001b[0m\u001b[1;33m(\u001b[0m\u001b[1;33m**\u001b[0m\u001b[1;33m{\u001b[0m\u001b[0maxis_name\u001b[0m\u001b[1;33m:\u001b[0m \u001b[0mnew_axis\u001b[0m\u001b[1;33m}\u001b[0m\u001b[1;33m)\u001b[0m\u001b[1;33m\u001b[0m\u001b[1;33m\u001b[0m\u001b[0m\n\u001b[0;32m   4187\u001b[0m \u001b[1;33m\u001b[0m\u001b[0m\n",
      "\u001b[1;32m~\\Documents\\Electoral\\Electoral\\lib\\site-packages\\pandas\\core\\indexes\\base.py\u001b[0m in \u001b[0;36mdrop\u001b[1;34m(self, labels, errors)\u001b[0m\n\u001b[0;32m   6015\u001b[0m         \u001b[1;32mif\u001b[0m \u001b[0mmask\u001b[0m\u001b[1;33m.\u001b[0m\u001b[0many\u001b[0m\u001b[1;33m(\u001b[0m\u001b[1;33m)\u001b[0m\u001b[1;33m:\u001b[0m\u001b[1;33m\u001b[0m\u001b[1;33m\u001b[0m\u001b[0m\n\u001b[0;32m   6016\u001b[0m             \u001b[1;32mif\u001b[0m \u001b[0merrors\u001b[0m \u001b[1;33m!=\u001b[0m \u001b[1;34m\"ignore\"\u001b[0m\u001b[1;33m:\u001b[0m\u001b[1;33m\u001b[0m\u001b[1;33m\u001b[0m\u001b[0m\n\u001b[1;32m-> 6017\u001b[1;33m                 \u001b[1;32mraise\u001b[0m \u001b[0mKeyError\u001b[0m\u001b[1;33m(\u001b[0m\u001b[1;34mf\"{labels[mask]} not found in axis\"\u001b[0m\u001b[1;33m)\u001b[0m\u001b[1;33m\u001b[0m\u001b[1;33m\u001b[0m\u001b[0m\n\u001b[0m\u001b[0;32m   6018\u001b[0m             \u001b[0mindexer\u001b[0m \u001b[1;33m=\u001b[0m \u001b[0mindexer\u001b[0m\u001b[1;33m[\u001b[0m\u001b[1;33m~\u001b[0m\u001b[0mmask\u001b[0m\u001b[1;33m]\u001b[0m\u001b[1;33m\u001b[0m\u001b[1;33m\u001b[0m\u001b[0m\n\u001b[0;32m   6019\u001b[0m         \u001b[1;32mreturn\u001b[0m \u001b[0mself\u001b[0m\u001b[1;33m.\u001b[0m\u001b[0mdelete\u001b[0m\u001b[1;33m(\u001b[0m\u001b[0mindexer\u001b[0m\u001b[1;33m)\u001b[0m\u001b[1;33m\u001b[0m\u001b[1;33m\u001b[0m\u001b[0m\n",
      "\u001b[1;31mKeyError\u001b[0m: \"['pass'] not found in axis\""
     ]
    }
   ],
   "source": [
    "d_att = d.drop(['pass'], axis=1)\n",
    "d_pass = d['pass']"
   ]
  },
  {
   "cell_type": "markdown",
   "id": "7a6d993b",
   "metadata": {},
   "source": [
    "# Model"
   ]
  },
  {
   "cell_type": "code",
   "execution_count": 43,
   "id": "7e265c51",
   "metadata": {},
   "outputs": [],
   "source": [
    "# Configurar un árbol de decisión\n",
    "\n",
    "from sklearn import tree\n",
    "t = tree.DecisionTreeClassifier(criterion='entropy', max_depth=5)\n",
    "t = t.fit(d_train_tss, d_train_pass)"
   ]
  },
  {
   "cell_type": "code",
   "execution_count": 44,
   "id": "62a04d8b",
   "metadata": {},
   "outputs": [
    {
     "data": {
      "text/plain": [
       "0.8912685337726524"
      ]
     },
     "execution_count": 44,
     "metadata": {},
     "output_type": "execute_result"
    }
   ],
   "source": [
    "t.score(d_test_tss, d_test_pass)"
   ]
  }
 ],
 "metadata": {
  "kernelspec": {
   "display_name": "Electoral",
   "language": "python",
   "name": "electoral"
  },
  "language_info": {
   "codemirror_mode": {
    "name": "ipython",
    "version": 3
   },
   "file_extension": ".py",
   "mimetype": "text/x-python",
   "name": "python",
   "nbconvert_exporter": "python",
   "pygments_lexer": "ipython3",
   "version": "3.9.1"
  }
 },
 "nbformat": 4,
 "nbformat_minor": 5
}
