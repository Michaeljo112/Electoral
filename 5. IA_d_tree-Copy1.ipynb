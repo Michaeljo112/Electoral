{
 "cells": [
  {
   "cell_type": "markdown",
   "id": "bdb7f0a5",
   "metadata": {},
   "source": [
    "# Ajustes previos"
   ]
  },
  {
   "cell_type": "code",
   "execution_count": 23,
   "id": "dd060016",
   "metadata": {},
   "outputs": [
    {
     "data": {
      "text/html": [
       "<div>\n",
       "<style scoped>\n",
       "    .dataframe tbody tr th:only-of-type {\n",
       "        vertical-align: middle;\n",
       "    }\n",
       "\n",
       "    .dataframe tbody tr th {\n",
       "        vertical-align: top;\n",
       "    }\n",
       "\n",
       "    .dataframe thead th {\n",
       "        text-align: right;\n",
       "    }\n",
       "</style>\n",
       "<table border=\"1\" class=\"dataframe\">\n",
       "  <thead>\n",
       "    <tr style=\"text-align: right;\">\n",
       "      <th></th>\n",
       "      <th>Identificador de persona</th>\n",
       "      <th>Identificador de hogar</th>\n",
       "      <th>Area</th>\n",
       "      <th>Sexo</th>\n",
       "      <th>Edad</th>\n",
       "      <th>Seguro Social - Alternativa 1</th>\n",
       "      <th>Seguro Social - Alternativa 2</th>\n",
       "      <th>Estado civil</th>\n",
       "      <th>Nivel de instrucción</th>\n",
       "      <th>Nivel de instrucción.1</th>\n",
       "      <th>...</th>\n",
       "      <th>Parientes</th>\n",
       "      <th>No parientes</th>\n",
       "      <th>Empleado(a) doméstico(a)</th>\n",
       "      <th>Tipology</th>\n",
       "      <th>PARROQUIA_CODIGO</th>\n",
       "      <th>Número de mujeres en el hogar</th>\n",
       "      <th>Número de personas del hogar</th>\n",
       "      <th>Elección política</th>\n",
       "      <th>Votos proporcionales</th>\n",
       "      <th>random</th>\n",
       "    </tr>\n",
       "  </thead>\n",
       "  <tbody>\n",
       "    <tr>\n",
       "      <th>0</th>\n",
       "      <td>10015290090200507101</td>\n",
       "      <td>100152900902005071</td>\n",
       "      <td>Rural</td>\n",
       "      <td>Mujer</td>\n",
       "      <td>74.0</td>\n",
       "      <td>IESS, seguro general</td>\n",
       "      <td>Ninguno</td>\n",
       "      <td>Separado(a)</td>\n",
       "      <td>Primaria</td>\n",
       "      <td>Educación Básica</td>\n",
       "      <td>...</td>\n",
       "      <td>0</td>\n",
       "      <td>0</td>\n",
       "      <td>0</td>\n",
       "      <td>Hogar tipo 1</td>\n",
       "      <td>100152</td>\n",
       "      <td>1</td>\n",
       "      <td>1</td>\n",
       "      <td>1030</td>\n",
       "      <td>3</td>\n",
       "      <td>5</td>\n",
       "    </tr>\n",
       "    <tr>\n",
       "      <th>1</th>\n",
       "      <td>10015290090200507101</td>\n",
       "      <td>100152900902005071</td>\n",
       "      <td>Rural</td>\n",
       "      <td>Mujer</td>\n",
       "      <td>74.0</td>\n",
       "      <td>IESS, seguro general</td>\n",
       "      <td>Ninguno</td>\n",
       "      <td>Separado(a)</td>\n",
       "      <td>Primaria</td>\n",
       "      <td>Educación Básica</td>\n",
       "      <td>...</td>\n",
       "      <td>0</td>\n",
       "      <td>0</td>\n",
       "      <td>0</td>\n",
       "      <td>Hogar tipo 1</td>\n",
       "      <td>100152</td>\n",
       "      <td>1</td>\n",
       "      <td>1</td>\n",
       "      <td>18</td>\n",
       "      <td>1</td>\n",
       "      <td>6</td>\n",
       "    </tr>\n",
       "    <tr>\n",
       "      <th>2</th>\n",
       "      <td>10015290090200507101</td>\n",
       "      <td>100152900902005071</td>\n",
       "      <td>Rural</td>\n",
       "      <td>Mujer</td>\n",
       "      <td>74.0</td>\n",
       "      <td>IESS, seguro general</td>\n",
       "      <td>Ninguno</td>\n",
       "      <td>Separado(a)</td>\n",
       "      <td>Primaria</td>\n",
       "      <td>Educación Básica</td>\n",
       "      <td>...</td>\n",
       "      <td>0</td>\n",
       "      <td>0</td>\n",
       "      <td>0</td>\n",
       "      <td>Hogar tipo 1</td>\n",
       "      <td>100152</td>\n",
       "      <td>1</td>\n",
       "      <td>1</td>\n",
       "      <td>2</td>\n",
       "      <td>2</td>\n",
       "      <td>12</td>\n",
       "    </tr>\n",
       "    <tr>\n",
       "      <th>3</th>\n",
       "      <td>10015290090200507101</td>\n",
       "      <td>100152900902005071</td>\n",
       "      <td>Rural</td>\n",
       "      <td>Mujer</td>\n",
       "      <td>74.0</td>\n",
       "      <td>IESS, seguro general</td>\n",
       "      <td>Ninguno</td>\n",
       "      <td>Separado(a)</td>\n",
       "      <td>Primaria</td>\n",
       "      <td>Educación Básica</td>\n",
       "      <td>...</td>\n",
       "      <td>0</td>\n",
       "      <td>0</td>\n",
       "      <td>0</td>\n",
       "      <td>Hogar tipo 1</td>\n",
       "      <td>100152</td>\n",
       "      <td>1</td>\n",
       "      <td>1</td>\n",
       "      <td>Ausentes</td>\n",
       "      <td>3</td>\n",
       "      <td>9</td>\n",
       "    </tr>\n",
       "  </tbody>\n",
       "</table>\n",
       "<p>4 rows × 44 columns</p>\n",
       "</div>"
      ],
      "text/plain": [
       "  Identificador de persona  Identificador de hogar    Area    Sexo  Edad  \\\n",
       "0     10015290090200507101      100152900902005071   Rural   Mujer  74.0   \n",
       "1     10015290090200507101      100152900902005071   Rural   Mujer  74.0   \n",
       "2     10015290090200507101      100152900902005071   Rural   Mujer  74.0   \n",
       "3     10015290090200507101      100152900902005071   Rural   Mujer  74.0   \n",
       "\n",
       "  Seguro Social - Alternativa 1 Seguro Social - Alternativa 2  Estado civil  \\\n",
       "0          IESS, seguro general                       Ninguno   Separado(a)   \n",
       "1          IESS, seguro general                       Ninguno   Separado(a)   \n",
       "2          IESS, seguro general                       Ninguno   Separado(a)   \n",
       "3          IESS, seguro general                       Ninguno   Separado(a)   \n",
       "\n",
       "  Nivel de instrucción Nivel de instrucción.1  ... Parientes No parientes  \\\n",
       "0             Primaria       Educación Básica  ...         0            0   \n",
       "1             Primaria       Educación Básica  ...         0            0   \n",
       "2             Primaria       Educación Básica  ...         0            0   \n",
       "3             Primaria       Educación Básica  ...         0            0   \n",
       "\n",
       "  Empleado(a) doméstico(a)      Tipology PARROQUIA_CODIGO  \\\n",
       "0                        0  Hogar tipo 1           100152   \n",
       "1                        0  Hogar tipo 1           100152   \n",
       "2                        0  Hogar tipo 1           100152   \n",
       "3                        0  Hogar tipo 1           100152   \n",
       "\n",
       "  Número de mujeres en el hogar Número de personas del hogar  \\\n",
       "0                             1                            1   \n",
       "1                             1                            1   \n",
       "2                             1                            1   \n",
       "3                             1                            1   \n",
       "\n",
       "  Elección política  Votos proporcionales random  \n",
       "0              1030                     3      5  \n",
       "1                18                     1      6  \n",
       "2                 2                     2     12  \n",
       "3          Ausentes                     3      9  \n",
       "\n",
       "[4 rows x 44 columns]"
      ]
     },
     "execution_count": 23,
     "metadata": {},
     "output_type": "execute_result"
    }
   ],
   "source": [
    "# load datasets (students Portuguese scores)\n",
    "\n",
    "import pandas as pd\n",
    "\n",
    "d = pd.read_csv('Data/df_regresion.csv')\n",
    "d.head(4)"
   ]
  },
  {
   "cell_type": "code",
   "execution_count": 24,
   "id": "b6a93100",
   "metadata": {},
   "outputs": [
    {
     "data": {
      "text/plain": [
       "Index(['Identificador de persona', 'Identificador de hogar', 'Area', 'Sexo',\n",
       "       'Edad', 'Seguro Social - Alternativa 1',\n",
       "       'Seguro Social - Alternativa 2', 'Estado civil', 'Nivel de instrucción',\n",
       "       'Nivel de instrucción.1', 'Cómo se considera',\n",
       "       'Condición de inactividad', 'Categoría de ocupación',\n",
       "       'Cuántos años trabaja', 'Condición de actividad', 'Ingreso Laboral',\n",
       "       'Grupo de Ocupación CIUO8 (población ocupada de 15 años y más)',\n",
       "       'Rama de Actividad CIIU4 (población ocupada de 15 años y más)',\n",
       "       'Ingreso per cápita', 'Pobreza', 'Extrema Pobreza',\n",
       "       'Forma de tenencia de la vivienda',\n",
       "       'Con relación al mes anterior, la situación económica de su hogar es:',\n",
       "       'Cómo cree usted que será la situación económica de su hogar dentro de los próximos 3 meses:',\n",
       "       'Planea usted o algún miembro del hogar adquirir un vehículo en los próximos 3 meses',\n",
       "       'Planea usted o algún miembro del hogar adquirir un inmueble (casa, departamento, pieza) en los próximos 3 meses',\n",
       "       'Usted o algún miembro del hogar tiene planes de endeudamiento en los próximos 3 meses (bancos, financieras, etc.)',\n",
       "       'Con relación al mes anterior, la situación económica del país es:',\n",
       "       'Usted considera que durante los próximos 3 meses la situación económica del país será:',\n",
       "       'En los 3 meses anteriores, considera que la situación en Ecuador para encontrar/mejorar un puesto de trabajo es:',\n",
       "       'Considera usted que la situación en Ecuador para encontrar/mejorar un puesto de trabajo dentro de 3 meses será:',\n",
       "       'Género del jefe/a de hogar', 'Cónyuge', 'Hijo o Hija', 'Parientes',\n",
       "       'No parientes', 'Empleado(a) doméstico(a)', 'Tipology',\n",
       "       'PARROQUIA_CODIGO', 'Número de mujeres en el hogar',\n",
       "       'Número de personas del hogar', 'Elección política',\n",
       "       'Votos proporcionales', 'random'],\n",
       "      dtype='object')"
      ]
     },
     "execution_count": 24,
     "metadata": {},
     "output_type": "execute_result"
    }
   ],
   "source": [
    "# Vamos a identificar las columnas para adecuador su tipo (str, float o int)\n",
    "\n",
    "d.columns"
   ]
  },
  {
   "cell_type": "code",
   "execution_count": 25,
   "id": "a0bb7d47",
   "metadata": {},
   "outputs": [],
   "source": [
    "# Depuramos variables que ya no son útiles para este análisis de árbol de decisión\n",
    "\n",
    "d = d.drop(columns=['Nivel de instrucción.1', \n",
    "                    'Identificador de persona', \n",
    "                    'Identificador de hogar', \n",
    "                    'Ingreso Laboral',\n",
    "                    'random', \n",
    "                    'Grupo de Ocupación CIUO8 (población ocupada de 15 años y más)',\n",
    "                    'PARROQUIA_CODIGO',\n",
    "                    'Votos proporcionales'\n",
    "                   ]\n",
    "          )"
   ]
  },
  {
   "cell_type": "code",
   "execution_count": 26,
   "id": "a38e37fe",
   "metadata": {},
   "outputs": [],
   "source": [
    "# Creamos un diccionario para modificar el tipo de datos según deseemos\n",
    "\n",
    "NEW = {'Area': str,\n",
    "       'Sexo': str,\n",
    "       'Edad': float,\n",
    "       'Seguro Social - Alternativa 1': str,\n",
    "       'Seguro Social - Alternativa 2': str,\n",
    "       'Estado civil': str,\n",
    "       'Nivel de instrucción': str,\n",
    "       'Cómo se considera': str,\n",
    "       'Condición de inactividad': str,\n",
    "       'Categoría de ocupación': str,\n",
    "       'Cuántos años trabaja': float,\n",
    "       'Condición de actividad': str,\n",
    "       'Rama de Actividad CIIU4 (población ocupada de 15 años y más)': str,\n",
    "       'Pobreza': str,\n",
    "       'Extrema Pobreza': str,\n",
    "       'Forma de tenencia de la vivienda': str,\n",
    "       'Con relación al mes anterior, la situación económica de su hogar es:': str,\n",
    "       'Cómo cree usted que será la situación económica de su hogar dentro de los próximos 3 meses:': str,\n",
    "       'Planea usted o algún miembro del hogar adquirir un vehículo en los próximos 3 meses': str,\n",
    "       'Planea usted o algún miembro del hogar adquirir un inmueble (casa, departamento, pieza) en los próximos 3 meses': str,\n",
    "       'Usted o algún miembro del hogar tiene planes de endeudamiento en los próximos 3 meses (bancos, financieras, etc.)': str,\n",
    "       'Con relación al mes anterior, la situación económica del país es:': str,\n",
    "       'Usted considera que durante los próximos 3 meses la situación económica del país será:': str,\n",
    "       'En los 3 meses anteriores, considera que la situación en Ecuador para encontrar/mejorar un puesto de trabajo es:': str,\n",
    "       'Considera usted que la situación en Ecuador para encontrar/mejorar un puesto de trabajo dentro de 3 meses será:': str,\n",
    "       'Género del jefe/a de hogar': str,\n",
    "       'Cónyuge': int,\n",
    "       'Hijo o Hija': int,\n",
    "       'Parientes': int,\n",
    "       'No parientes': int,\n",
    "       'Empleado(a) doméstico(a)': int,\n",
    "       'Tipology': str,\n",
    "       'Número de mujeres en el hogar': int,\n",
    "       'Número de personas del hogar': int, \n",
    "       'Elección política': str,\n",
    "       'Ingreso per cápita': float,\n",
    "      }\n",
    "\n",
    "d = d.astype(NEW)"
   ]
  },
  {
   "cell_type": "markdown",
   "id": "565bf678",
   "metadata": {},
   "source": [
    "Vamos a simplificar el modelo clasificando la elección política en 2: asignando 1 para los que votaron por UNES y 2 para los que no. "
   ]
  },
  {
   "cell_type": "code",
   "execution_count": 27,
   "id": "c5f34a11",
   "metadata": {},
   "outputs": [],
   "source": [
    "# El código para la op 1030 indica si se voto por FUERZA COMPROMISO SOCIAL \n",
    "\n",
    "d['Elección política'] = d['Elección política'].apply(lambda election: 1 if election == '1030' else 0)"
   ]
  },
  {
   "cell_type": "markdown",
   "id": "0feebdd6",
   "metadata": {},
   "source": [
    "Vamos a ajustar la base, para evitar los NaNs, pues es imposible trabajar con ellos."
   ]
  },
  {
   "cell_type": "markdown",
   "id": "f186045c",
   "metadata": {},
   "source": [
    "Detalle de ajustes:\n",
    "\n",
    "Vamos a reemplazarlos valores perdidos como sigue:\n",
    "\n",
    "1. Condensar las filas *Condición de inactividad* y *Condición de ocupación* en una sola fila llamada *Condición de ocupación*. Una vez hecho esto, los NaNs que aún sobren serán catalogados como *Otro motivo*.\n",
    "2. Vamos a rellenar los NaNs de la variable categoría de ocupación con *No declara*.\n",
    "3. Vamos a rellenar los NaNs o blancos de la variable cuántos años trabaja con 0.\n",
    "4. Vamos a crear una solo variable para las variables *Pobreza* Y *Extrema pobreza* llamada *Tipo de pobreza*.\n",
    "5. El *Grupo de Ocupación CIUO8 (población ocupada de 15 años y más)* y *Rama de Actividad CIIU4 (población ocupada de 15 años y más* serán depuradas con un reemplzados de NaNs por *Es inactivo*.\n",
    "6. Los valores de *Ingreso per cápita* perdidos se van a excluir y vamos a hacer el ingreso entero, para evitar problemas con la librería sklearn.\n"
   ]
  },
  {
   "cell_type": "code",
   "execution_count": 28,
   "id": "20567210",
   "metadata": {},
   "outputs": [],
   "source": [
    "# Hago que nan sea reconocido como ninguno\n",
    "\n",
    "d = d.replace('nan', None)\n",
    "\n",
    "# Reemplazo valores de la variable Condición de ocupación con Condición de inactividad\n",
    "\n",
    "d['Condición de actividad'].fillna(d['Condición de inactividad'], inplace=True)\n",
    "d['Condición de actividad'].fillna('Otro motivo', inplace=True)\n",
    "# Elimino la variable que ya no será útil\n",
    "\n",
    "del d['Condición de inactividad']"
   ]
  },
  {
   "cell_type": "code",
   "execution_count": 29,
   "id": "5d8d5aca",
   "metadata": {},
   "outputs": [],
   "source": [
    "# El resto de modificaciones:\n",
    "\n",
    "d = d.replace('nan', None)\n",
    "\n",
    "d['Categoría de ocupación'].fillna('No declara', inplace=True)\n",
    "d['Cuántos años trabaja'].fillna(0, inplace=True)\n",
    "\n",
    "# Creamos una sola variable que se llame tipo de pobreza \n",
    "\n",
    "d['Pobreza'].fillna(d['Extrema Pobreza'], inplace=True)\n",
    "d['Pobreza'].fillna('Ninguna', inplace=True) # Lleno los que aún no han sido clasficados\n",
    "\n",
    "# Elimino la variable que ya no será útil\n",
    "\n",
    "del d['Extrema Pobreza']\n",
    "\n",
    "# y renombro la variable\n",
    "\n",
    "d.rename(columns={'Pobreza': 'Tipo de pobreza'})\n",
    "\n",
    "d['Rama de Actividad CIIU4 (población ocupada de 15 años y más)'].fillna('Es inactivo', inplace=True)\n"
   ]
  },
  {
   "cell_type": "markdown",
   "id": "c4df7ce2",
   "metadata": {},
   "source": [
    "## Un ajuste inadvertido, pero costoso"
   ]
  },
  {
   "cell_type": "markdown",
   "id": "fcbf05f6",
   "metadata": {},
   "source": [
    "Quiero que el lector sea consciente de que si no aproxima los decimales a 2 cifras, la librería no podrá hacer la simulación."
   ]
  },
  {
   "cell_type": "code",
   "execution_count": 30,
   "id": "b5468e09",
   "metadata": {},
   "outputs": [
    {
     "data": {
      "text/plain": [
       "{'Area': dtype('O'),\n",
       " 'Sexo': dtype('O'),\n",
       " 'Edad': dtype('float64'),\n",
       " 'Seguro Social - Alternativa 1': dtype('O'),\n",
       " 'Seguro Social - Alternativa 2': dtype('O'),\n",
       " 'Estado civil': dtype('O'),\n",
       " 'Nivel de instrucción': dtype('O'),\n",
       " 'Cómo se considera': dtype('O'),\n",
       " 'Categoría de ocupación': dtype('O'),\n",
       " 'Cuántos años trabaja': dtype('float64'),\n",
       " 'Condición de actividad': dtype('O'),\n",
       " 'Rama de Actividad CIIU4 (población ocupada de 15 años y más)': dtype('O'),\n",
       " 'Ingreso per cápita': dtype('float64'),\n",
       " 'Pobreza': dtype('O'),\n",
       " 'Forma de tenencia de la vivienda': dtype('O'),\n",
       " 'Con relación al mes anterior, la situación económica de su hogar es:': dtype('O'),\n",
       " 'Cómo cree usted que será la situación económica de su hogar dentro de los próximos 3 meses:': dtype('O'),\n",
       " 'Planea usted o algún miembro del hogar adquirir un vehículo en los próximos 3 meses': dtype('O'),\n",
       " 'Planea usted o algún miembro del hogar adquirir un inmueble (casa, departamento, pieza) en los próximos 3 meses': dtype('O'),\n",
       " 'Usted o algún miembro del hogar tiene planes de endeudamiento en los próximos 3 meses (bancos, financieras, etc.)': dtype('O'),\n",
       " 'Con relación al mes anterior, la situación económica del país es:': dtype('O'),\n",
       " 'Usted considera que durante los próximos 3 meses la situación económica del país será:': dtype('O'),\n",
       " 'En los 3 meses anteriores, considera que la situación en Ecuador para encontrar/mejorar un puesto de trabajo es:': dtype('O'),\n",
       " 'Considera usted que la situación en Ecuador para encontrar/mejorar un puesto de trabajo dentro de 3 meses será:': dtype('O'),\n",
       " 'Género del jefe/a de hogar': dtype('O'),\n",
       " 'Cónyuge': dtype('int32'),\n",
       " 'Hijo o Hija': dtype('int32'),\n",
       " 'Parientes': dtype('int32'),\n",
       " 'No parientes': dtype('int32'),\n",
       " 'Empleado(a) doméstico(a)': dtype('int32'),\n",
       " 'Tipology': dtype('O'),\n",
       " 'Número de mujeres en el hogar': dtype('int32'),\n",
       " 'Número de personas del hogar': dtype('int32'),\n",
       " 'Elección política': dtype('int64')}"
      ]
     },
     "execution_count": 30,
     "metadata": {},
     "output_type": "execute_result"
    }
   ],
   "source": [
    "dict(d.dtypes)"
   ]
  },
  {
   "cell_type": "code",
   "execution_count": 31,
   "id": "31185d94",
   "metadata": {},
   "outputs": [],
   "source": [
    "d['Cuántos años trabaja'] = d['Cuántos años trabaja'].astype(int)"
   ]
  },
  {
   "cell_type": "code",
   "execution_count": 32,
   "id": "8ca54529",
   "metadata": {
    "scrolled": true
   },
   "outputs": [],
   "source": [
    "d = d.dropna(subset=['Ingreso per cápita'])\n",
    "d['Ingreso per cápita'] = round(d['Ingreso per cápita'], 0)"
   ]
  },
  {
   "cell_type": "code",
   "execution_count": 33,
   "id": "5328f24b",
   "metadata": {},
   "outputs": [],
   "source": [
    "d['Ingreso per cápita'] = d['Ingreso per cápita'].astype(int)"
   ]
  },
  {
   "cell_type": "markdown",
   "id": "48909a55",
   "metadata": {},
   "source": [
    "Creamos una lista de variables para hacer dummies"
   ]
  },
  {
   "cell_type": "code",
   "execution_count": 36,
   "id": "802185f2",
   "metadata": {},
   "outputs": [],
   "source": [
    "# Creamos la lista\n",
    "\n",
    "VAR = ['Area',\n",
    "       'Sexo',\n",
    "       'Seguro Social - Alternativa 1',\n",
    "       'Seguro Social - Alternativa 2',\n",
    "       'Estado civil',\n",
    "       'Nivel de instrucción',\n",
    "       'Cómo se considera',\n",
    "       'Categoría de ocupación',\n",
    "       'Condición de actividad',\n",
    "       'Rama de Actividad CIIU4 (población ocupada de 15 años y más)',\n",
    "       'Tipo de pobreza',\n",
    "       'Forma de tenencia de la vivienda',\n",
    "       'Con relación al mes anterior, la situación económica de su hogar es:',\n",
    "       'Cómo cree usted que será la situación económica de su hogar dentro de los próximos 3 meses:',\n",
    "       'Planea usted o algún miembro del hogar adquirir un vehículo en los próximos 3 meses',\n",
    "       'Planea usted o algún miembro del hogar adquirir un inmueble (casa, departamento, pieza) en los próximos 3 meses',\n",
    "       'Usted o algún miembro del hogar tiene planes de endeudamiento en los próximos 3 meses (bancos, financieras, etc.)',\n",
    "       'Con relación al mes anterior, la situación económica del país es:',\n",
    "       'Usted considera que durante los próximos 3 meses la situación económica del país será:',\n",
    "       'En los 3 meses anteriores, considera que la situación en Ecuador para encontrar/mejorar un puesto de trabajo es:',\n",
    "       'Considera usted que la situación en Ecuador para encontrar/mejorar un puesto de trabajo dentro de 3 meses será:',\n",
    "       'Género del jefe/a de hogar',\n",
    "       'Tipology']"
   ]
  },
  {
   "cell_type": "code",
   "execution_count": 37,
   "id": "2bbadf64",
   "metadata": {},
   "outputs": [],
   "source": [
    "# Configiguramos la base d con dummies, sin nas\n",
    "\n",
    "d = pd.get_dummies(d, VAR, dummy_na=False)"
   ]
  },
  {
   "cell_type": "markdown",
   "id": "16cc3cff",
   "metadata": {},
   "source": [
    "# Decision tree"
   ]
  },
  {
   "cell_type": "code",
   "execution_count": 102,
   "id": "329cad31",
   "metadata": {},
   "outputs": [
    {
     "data": {
      "text/plain": [
       "(8469, 125)"
      ]
     },
     "execution_count": 102,
     "metadata": {},
     "output_type": "execute_result"
    }
   ],
   "source": [
    "d.shape"
   ]
  },
  {
   "cell_type": "code",
   "execution_count": 103,
   "id": "1fae28d3",
   "metadata": {},
   "outputs": [],
   "source": [
    "# Separo a los datos en 2 grupos\n",
    "\n",
    "N_A, N_B = d.shape[0]*0.5, 1 - d.shape[0]*0.5\n",
    "\n",
    "d_train = d[:int(N_A)] # separa la muestra para los primeros 500\n",
    "d_test = d[int(N_B)+1:] # separa la muestra para los finales 500"
   ]
  },
  {
   "cell_type": "code",
   "execution_count": 104,
   "id": "07ebae87",
   "metadata": {},
   "outputs": [],
   "source": [
    "# d_train_tss es una matriz de variables independientes\n",
    "\n",
    "\n",
    "d_train_tss = d_train.drop(['Elección política'], axis=1)\n",
    "\n",
    "# d_train_pass es un vector con información de la variable dependiente\n",
    "\n",
    "d_train_pass = d_train['Elección política']"
   ]
  },
  {
   "cell_type": "code",
   "execution_count": 105,
   "id": "b2a2587a",
   "metadata": {},
   "outputs": [],
   "source": [
    "# Misma lógica para el grupo de testeo \n",
    "\n",
    "d_test_tss = d_test.drop(['Elección política'], axis=1)\n",
    "d_test_pass = d_test['Elección política']"
   ]
  },
  {
   "cell_type": "code",
   "execution_count": 106,
   "id": "eaa4d32b",
   "metadata": {},
   "outputs": [],
   "source": [
    "# Toda la base\n",
    "\n",
    "d_att = d.drop(['Elección política'], axis=1)\n",
    "d_pass = d['Elección política']"
   ]
  },
  {
   "cell_type": "code",
   "execution_count": 107,
   "id": "d40c7b30",
   "metadata": {},
   "outputs": [
    {
     "name": "stdout",
     "output_type": "stream",
     "text": [
      "Pasaron 985 del 8469 (11.63%)\n"
     ]
    }
   ],
   "source": [
    "# Para saber cuántos votos de la base fueron dados a UNES\n",
    "\n",
    "import numpy as np\n",
    "\n",
    "print('Pasaron %d del %d (%.2f%%)' % (np.sum(d_pass), len(d_pass), 100*float(np.sum(d_pass)/len(d_pass))))"
   ]
  },
  {
   "cell_type": "code",
   "execution_count": 108,
   "id": "faed5dc6",
   "metadata": {},
   "outputs": [],
   "source": [
    "d_att = d.drop(['Elección política'], axis=1)\n",
    "d_pass = d['Elección política']"
   ]
  },
  {
   "cell_type": "markdown",
   "id": "7a6d993b",
   "metadata": {},
   "source": [
    "# Model"
   ]
  },
  {
   "cell_type": "code",
   "execution_count": 109,
   "id": "7e265c51",
   "metadata": {},
   "outputs": [],
   "source": [
    "# Configurar un árbol de decisión\n",
    "\n",
    "from sklearn import tree\n",
    "t = tree.DecisionTreeClassifier(criterion='entropy', max_depth=5)\n",
    "t = t.fit(d_train_tss, d_train_pass)"
   ]
  },
  {
   "cell_type": "code",
   "execution_count": 110,
   "id": "62a04d8b",
   "metadata": {},
   "outputs": [
    {
     "data": {
      "text/plain": [
       "0.8910680529300568"
      ]
     },
     "execution_count": 110,
     "metadata": {},
     "output_type": "execute_result"
    }
   ],
   "source": [
    "t.score(d_test_tss, d_test_pass)"
   ]
  },
  {
   "cell_type": "code",
   "execution_count": 152,
   "id": "36a73a67",
   "metadata": {},
   "outputs": [
    {
     "data": {
      "image/png": "[encoded data removed]",
      "text/plain": [
       "<Figure size 1800x720 with 1 Axes>"
      ]
     },
     "metadata": {
      "needs_background": "light"
     },
     "output_type": "display_data"
    }
   ],
   "source": [
    "import matplotlib.pyplot as plt\n",
    "\n",
    "plt.figure(figsize=(25, 10))\n",
    "tree.plot_tree(t, \n",
    "               feature_names=d_att.columns, \n",
    "               class_names=['No vota por UNEs', 'No vota por UNEs'],\n",
    "               filled=True)\n",
    "plt.savefig('Data/tree.png', dpi=400)\n",
    "\n",
    "# plt.savefig('Data/tree.pdf', format='pdf', bbox_inches = \"tight\", dpi=400)"
   ]
  },
  {
   "cell_type": "code",
   "execution_count": 160,
   "id": "a1bc010f",
   "metadata": {},
   "outputs": [
    {
     "ename": "ExecutableNotFound",
     "evalue": "failed to execute WindowsPath('dot'), make sure the Graphviz executables are on your systems' PATH",
     "output_type": "error",
     "traceback": [
      "\u001b[1;31m---------------------------------------------------------------------------\u001b[0m",
      "\u001b[1;31mFileNotFoundError\u001b[0m                         Traceback (most recent call last)",
      "\u001b[1;32m~\\Documents\\Electoral\\Electoral\\lib\\site-packages\\graphviz\\backend\\execute.py\u001b[0m in \u001b[0;36mrun_check\u001b[1;34m(cmd, input_lines, encoding, capture_output, quiet, **kwargs)\u001b[0m\n\u001b[0;32m     82\u001b[0m             \u001b[1;32massert\u001b[0m \u001b[0miter\u001b[0m\u001b[1;33m(\u001b[0m\u001b[0minput_lines\u001b[0m\u001b[1;33m)\u001b[0m \u001b[1;32mis\u001b[0m \u001b[0minput_lines\u001b[0m\u001b[1;33m\u001b[0m\u001b[1;33m\u001b[0m\u001b[0m\n\u001b[1;32m---> 83\u001b[1;33m             \u001b[0mproc\u001b[0m \u001b[1;33m=\u001b[0m \u001b[0m_run_input_lines\u001b[0m\u001b[1;33m(\u001b[0m\u001b[0mcmd\u001b[0m\u001b[1;33m,\u001b[0m \u001b[0minput_lines\u001b[0m\u001b[1;33m,\u001b[0m \u001b[0mkwargs\u001b[0m\u001b[1;33m=\u001b[0m\u001b[0mkwargs\u001b[0m\u001b[1;33m)\u001b[0m\u001b[1;33m\u001b[0m\u001b[1;33m\u001b[0m\u001b[0m\n\u001b[0m\u001b[0;32m     84\u001b[0m         \u001b[1;32melse\u001b[0m\u001b[1;33m:\u001b[0m\u001b[1;33m\u001b[0m\u001b[1;33m\u001b[0m\u001b[0m\n",
      "\u001b[1;32m~\\Documents\\Electoral\\Electoral\\lib\\site-packages\\graphviz\\backend\\execute.py\u001b[0m in \u001b[0;36m_run_input_lines\u001b[1;34m(cmd, input_lines, kwargs)\u001b[0m\n\u001b[0;32m    102\u001b[0m \u001b[1;32mdef\u001b[0m \u001b[0m_run_input_lines\u001b[0m\u001b[1;33m(\u001b[0m\u001b[0mcmd\u001b[0m\u001b[1;33m,\u001b[0m \u001b[0minput_lines\u001b[0m\u001b[1;33m,\u001b[0m \u001b[1;33m*\u001b[0m\u001b[1;33m,\u001b[0m \u001b[0mkwargs\u001b[0m\u001b[1;33m)\u001b[0m\u001b[1;33m:\u001b[0m\u001b[1;33m\u001b[0m\u001b[1;33m\u001b[0m\u001b[0m\n\u001b[1;32m--> 103\u001b[1;33m     \u001b[0mpopen\u001b[0m \u001b[1;33m=\u001b[0m \u001b[0msubprocess\u001b[0m\u001b[1;33m.\u001b[0m\u001b[0mPopen\u001b[0m\u001b[1;33m(\u001b[0m\u001b[0mcmd\u001b[0m\u001b[1;33m,\u001b[0m \u001b[0mstdin\u001b[0m\u001b[1;33m=\u001b[0m\u001b[0msubprocess\u001b[0m\u001b[1;33m.\u001b[0m\u001b[0mPIPE\u001b[0m\u001b[1;33m,\u001b[0m \u001b[1;33m**\u001b[0m\u001b[0mkwargs\u001b[0m\u001b[1;33m)\u001b[0m\u001b[1;33m\u001b[0m\u001b[1;33m\u001b[0m\u001b[0m\n\u001b[0m\u001b[0;32m    104\u001b[0m \u001b[1;33m\u001b[0m\u001b[0m\n",
      "\u001b[1;32mc:\\users\\micha\\appdata\\local\\programs\\python\\python39\\lib\\subprocess.py\u001b[0m in \u001b[0;36m__init__\u001b[1;34m(self, args, bufsize, executable, stdin, stdout, stderr, preexec_fn, close_fds, shell, cwd, env, universal_newlines, startupinfo, creationflags, restore_signals, start_new_session, pass_fds, user, group, extra_groups, encoding, errors, text, umask)\u001b[0m\n\u001b[0;32m    946\u001b[0m \u001b[1;33m\u001b[0m\u001b[0m\n\u001b[1;32m--> 947\u001b[1;33m             self._execute_child(args, executable, preexec_fn, close_fds,\n\u001b[0m\u001b[0;32m    948\u001b[0m                                 \u001b[0mpass_fds\u001b[0m\u001b[1;33m,\u001b[0m \u001b[0mcwd\u001b[0m\u001b[1;33m,\u001b[0m \u001b[0menv\u001b[0m\u001b[1;33m,\u001b[0m\u001b[1;33m\u001b[0m\u001b[1;33m\u001b[0m\u001b[0m\n",
      "\u001b[1;32mc:\\users\\micha\\appdata\\local\\programs\\python\\python39\\lib\\subprocess.py\u001b[0m in \u001b[0;36m_execute_child\u001b[1;34m(self, args, executable, preexec_fn, close_fds, pass_fds, cwd, env, startupinfo, creationflags, shell, p2cread, p2cwrite, c2pread, c2pwrite, errread, errwrite, unused_restore_signals, unused_gid, unused_gids, unused_uid, unused_umask, unused_start_new_session)\u001b[0m\n\u001b[0;32m   1415\u001b[0m             \u001b[1;32mtry\u001b[0m\u001b[1;33m:\u001b[0m\u001b[1;33m\u001b[0m\u001b[1;33m\u001b[0m\u001b[0m\n\u001b[1;32m-> 1416\u001b[1;33m                 hp, ht, pid, tid = _winapi.CreateProcess(executable, args,\n\u001b[0m\u001b[0;32m   1417\u001b[0m                                          \u001b[1;31m# no special security\u001b[0m\u001b[1;33m\u001b[0m\u001b[1;33m\u001b[0m\u001b[1;33m\u001b[0m\u001b[0m\n",
      "\u001b[1;31mFileNotFoundError\u001b[0m: [WinError 2] The system cannot find the file specified",
      "\nThe above exception was the direct cause of the following exception:\n",
      "\u001b[1;31mExecutableNotFound\u001b[0m                        Traceback (most recent call last)",
      "\u001b[1;32m~\\Documents\\Electoral\\Electoral\\lib\\site-packages\\IPython\\core\\formatters.py\u001b[0m in \u001b[0;36m__call__\u001b[1;34m(self, obj, include, exclude)\u001b[0m\n\u001b[0;32m    968\u001b[0m \u001b[1;33m\u001b[0m\u001b[0m\n\u001b[0;32m    969\u001b[0m             \u001b[1;32mif\u001b[0m \u001b[0mmethod\u001b[0m \u001b[1;32mis\u001b[0m \u001b[1;32mnot\u001b[0m \u001b[1;32mNone\u001b[0m\u001b[1;33m:\u001b[0m\u001b[1;33m\u001b[0m\u001b[1;33m\u001b[0m\u001b[0m\n\u001b[1;32m--> 970\u001b[1;33m                 \u001b[1;32mreturn\u001b[0m \u001b[0mmethod\u001b[0m\u001b[1;33m(\u001b[0m\u001b[0minclude\u001b[0m\u001b[1;33m=\u001b[0m\u001b[0minclude\u001b[0m\u001b[1;33m,\u001b[0m \u001b[0mexclude\u001b[0m\u001b[1;33m=\u001b[0m\u001b[0mexclude\u001b[0m\u001b[1;33m)\u001b[0m\u001b[1;33m\u001b[0m\u001b[1;33m\u001b[0m\u001b[0m\n\u001b[0m\u001b[0;32m    971\u001b[0m             \u001b[1;32mreturn\u001b[0m \u001b[1;32mNone\u001b[0m\u001b[1;33m\u001b[0m\u001b[1;33m\u001b[0m\u001b[0m\n\u001b[0;32m    972\u001b[0m         \u001b[1;32melse\u001b[0m\u001b[1;33m:\u001b[0m\u001b[1;33m\u001b[0m\u001b[1;33m\u001b[0m\u001b[0m\n",
      "\u001b[1;32m~\\Documents\\Electoral\\Electoral\\lib\\site-packages\\graphviz\\jupyter_integration.py\u001b[0m in \u001b[0;36m_repr_mimebundle_\u001b[1;34m(self, include, exclude, **_)\u001b[0m\n\u001b[0;32m     96\u001b[0m         \u001b[0minclude\u001b[0m \u001b[1;33m=\u001b[0m \u001b[0mset\u001b[0m\u001b[1;33m(\u001b[0m\u001b[0minclude\u001b[0m\u001b[1;33m)\u001b[0m \u001b[1;32mif\u001b[0m \u001b[0minclude\u001b[0m \u001b[1;32mis\u001b[0m \u001b[1;32mnot\u001b[0m \u001b[1;32mNone\u001b[0m \u001b[1;32melse\u001b[0m \u001b[1;33m{\u001b[0m\u001b[0mself\u001b[0m\u001b[1;33m.\u001b[0m\u001b[0m_jupyter_mimetype\u001b[0m\u001b[1;33m}\u001b[0m\u001b[1;33m\u001b[0m\u001b[1;33m\u001b[0m\u001b[0m\n\u001b[0;32m     97\u001b[0m         \u001b[0minclude\u001b[0m \u001b[1;33m-=\u001b[0m \u001b[0mset\u001b[0m\u001b[1;33m(\u001b[0m\u001b[0mexclude\u001b[0m \u001b[1;32mor\u001b[0m \u001b[1;33m[\u001b[0m\u001b[1;33m]\u001b[0m\u001b[1;33m)\u001b[0m\u001b[1;33m\u001b[0m\u001b[1;33m\u001b[0m\u001b[0m\n\u001b[1;32m---> 98\u001b[1;33m         return {mimetype: getattr(self, method_name)()\n\u001b[0m\u001b[0;32m     99\u001b[0m                 \u001b[1;32mfor\u001b[0m \u001b[0mmimetype\u001b[0m\u001b[1;33m,\u001b[0m \u001b[0mmethod_name\u001b[0m \u001b[1;32min\u001b[0m \u001b[0mMIME_TYPES\u001b[0m\u001b[1;33m.\u001b[0m\u001b[0mitems\u001b[0m\u001b[1;33m(\u001b[0m\u001b[1;33m)\u001b[0m\u001b[1;33m\u001b[0m\u001b[1;33m\u001b[0m\u001b[0m\n\u001b[0;32m    100\u001b[0m                 if mimetype in include}\n",
      "\u001b[1;32m~\\Documents\\Electoral\\Electoral\\lib\\site-packages\\graphviz\\jupyter_integration.py\u001b[0m in \u001b[0;36m<dictcomp>\u001b[1;34m(.0)\u001b[0m\n\u001b[0;32m     96\u001b[0m         \u001b[0minclude\u001b[0m \u001b[1;33m=\u001b[0m \u001b[0mset\u001b[0m\u001b[1;33m(\u001b[0m\u001b[0minclude\u001b[0m\u001b[1;33m)\u001b[0m \u001b[1;32mif\u001b[0m \u001b[0minclude\u001b[0m \u001b[1;32mis\u001b[0m \u001b[1;32mnot\u001b[0m \u001b[1;32mNone\u001b[0m \u001b[1;32melse\u001b[0m \u001b[1;33m{\u001b[0m\u001b[0mself\u001b[0m\u001b[1;33m.\u001b[0m\u001b[0m_jupyter_mimetype\u001b[0m\u001b[1;33m}\u001b[0m\u001b[1;33m\u001b[0m\u001b[1;33m\u001b[0m\u001b[0m\n\u001b[0;32m     97\u001b[0m         \u001b[0minclude\u001b[0m \u001b[1;33m-=\u001b[0m \u001b[0mset\u001b[0m\u001b[1;33m(\u001b[0m\u001b[0mexclude\u001b[0m \u001b[1;32mor\u001b[0m \u001b[1;33m[\u001b[0m\u001b[1;33m]\u001b[0m\u001b[1;33m)\u001b[0m\u001b[1;33m\u001b[0m\u001b[1;33m\u001b[0m\u001b[0m\n\u001b[1;32m---> 98\u001b[1;33m         return {mimetype: getattr(self, method_name)()\n\u001b[0m\u001b[0;32m     99\u001b[0m                 \u001b[1;32mfor\u001b[0m \u001b[0mmimetype\u001b[0m\u001b[1;33m,\u001b[0m \u001b[0mmethod_name\u001b[0m \u001b[1;32min\u001b[0m \u001b[0mMIME_TYPES\u001b[0m\u001b[1;33m.\u001b[0m\u001b[0mitems\u001b[0m\u001b[1;33m(\u001b[0m\u001b[1;33m)\u001b[0m\u001b[1;33m\u001b[0m\u001b[1;33m\u001b[0m\u001b[0m\n\u001b[0;32m    100\u001b[0m                 if mimetype in include}\n",
      "\u001b[1;32m~\\Documents\\Electoral\\Electoral\\lib\\site-packages\\graphviz\\jupyter_integration.py\u001b[0m in \u001b[0;36m_repr_image_svg_xml\u001b[1;34m(self)\u001b[0m\n\u001b[0;32m    110\u001b[0m     \u001b[1;32mdef\u001b[0m \u001b[0m_repr_image_svg_xml\u001b[0m\u001b[1;33m(\u001b[0m\u001b[0mself\u001b[0m\u001b[1;33m)\u001b[0m \u001b[1;33m->\u001b[0m \u001b[0mstr\u001b[0m\u001b[1;33m:\u001b[0m\u001b[1;33m\u001b[0m\u001b[1;33m\u001b[0m\u001b[0m\n\u001b[0;32m    111\u001b[0m         \u001b[1;34m\"\"\"Return the rendered graph as SVG string.\"\"\"\u001b[0m\u001b[1;33m\u001b[0m\u001b[1;33m\u001b[0m\u001b[0m\n\u001b[1;32m--> 112\u001b[1;33m         \u001b[1;32mreturn\u001b[0m \u001b[0mself\u001b[0m\u001b[1;33m.\u001b[0m\u001b[0mpipe\u001b[0m\u001b[1;33m(\u001b[0m\u001b[0mformat\u001b[0m\u001b[1;33m=\u001b[0m\u001b[1;34m'svg'\u001b[0m\u001b[1;33m,\u001b[0m \u001b[0mencoding\u001b[0m\u001b[1;33m=\u001b[0m\u001b[0mSVG_ENCODING\u001b[0m\u001b[1;33m)\u001b[0m\u001b[1;33m\u001b[0m\u001b[1;33m\u001b[0m\u001b[0m\n\u001b[0m",
      "\u001b[1;32m~\\Documents\\Electoral\\Electoral\\lib\\site-packages\\graphviz\\piping.py\u001b[0m in \u001b[0;36mpipe\u001b[1;34m(self, format, renderer, formatter, quiet, engine, encoding)\u001b[0m\n\u001b[0;32m     97\u001b[0m             \u001b[1;34m'<?xml version='\u001b[0m\u001b[1;33m\u001b[0m\u001b[1;33m\u001b[0m\u001b[0m\n\u001b[0;32m     98\u001b[0m         \"\"\"\n\u001b[1;32m---> 99\u001b[1;33m         return self._pipe_legacy(format,\n\u001b[0m\u001b[0;32m    100\u001b[0m                                  \u001b[0mrenderer\u001b[0m\u001b[1;33m=\u001b[0m\u001b[0mrenderer\u001b[0m\u001b[1;33m,\u001b[0m\u001b[1;33m\u001b[0m\u001b[1;33m\u001b[0m\u001b[0m\n\u001b[0;32m    101\u001b[0m                                  \u001b[0mformatter\u001b[0m\u001b[1;33m=\u001b[0m\u001b[0mformatter\u001b[0m\u001b[1;33m,\u001b[0m\u001b[1;33m\u001b[0m\u001b[1;33m\u001b[0m\u001b[0m\n",
      "\u001b[1;32m~\\Documents\\Electoral\\Electoral\\lib\\site-packages\\graphviz\\_tools.py\u001b[0m in \u001b[0;36mwrapper\u001b[1;34m(*args, **kwargs)\u001b[0m\n\u001b[0;32m    170\u001b[0m                               category=category)\n\u001b[0;32m    171\u001b[0m \u001b[1;33m\u001b[0m\u001b[0m\n\u001b[1;32m--> 172\u001b[1;33m             \u001b[1;32mreturn\u001b[0m \u001b[0mfunc\u001b[0m\u001b[1;33m(\u001b[0m\u001b[1;33m*\u001b[0m\u001b[0margs\u001b[0m\u001b[1;33m,\u001b[0m \u001b[1;33m**\u001b[0m\u001b[0mkwargs\u001b[0m\u001b[1;33m)\u001b[0m\u001b[1;33m\u001b[0m\u001b[1;33m\u001b[0m\u001b[0m\n\u001b[0m\u001b[0;32m    173\u001b[0m \u001b[1;33m\u001b[0m\u001b[0m\n\u001b[0;32m    174\u001b[0m         \u001b[1;32mreturn\u001b[0m \u001b[0mwrapper\u001b[0m\u001b[1;33m\u001b[0m\u001b[1;33m\u001b[0m\u001b[0m\n",
      "\u001b[1;32m~\\Documents\\Electoral\\Electoral\\lib\\site-packages\\graphviz\\piping.py\u001b[0m in \u001b[0;36m_pipe_legacy\u001b[1;34m(self, format, renderer, formatter, quiet, engine, encoding)\u001b[0m\n\u001b[0;32m    112\u001b[0m                      \u001b[0mengine\u001b[0m\u001b[1;33m:\u001b[0m \u001b[0mtyping\u001b[0m\u001b[1;33m.\u001b[0m\u001b[0mOptional\u001b[0m\u001b[1;33m[\u001b[0m\u001b[0mstr\u001b[0m\u001b[1;33m]\u001b[0m \u001b[1;33m=\u001b[0m \u001b[1;32mNone\u001b[0m\u001b[1;33m,\u001b[0m\u001b[1;33m\u001b[0m\u001b[1;33m\u001b[0m\u001b[0m\n\u001b[0;32m    113\u001b[0m                      encoding: typing.Optional[str] = None) -> typing.Union[bytes, str]:\n\u001b[1;32m--> 114\u001b[1;33m         return self._pipe_future(format,\n\u001b[0m\u001b[0;32m    115\u001b[0m                                  \u001b[0mrenderer\u001b[0m\u001b[1;33m=\u001b[0m\u001b[0mrenderer\u001b[0m\u001b[1;33m,\u001b[0m\u001b[1;33m\u001b[0m\u001b[1;33m\u001b[0m\u001b[0m\n\u001b[0;32m    116\u001b[0m                                  \u001b[0mformatter\u001b[0m\u001b[1;33m=\u001b[0m\u001b[0mformatter\u001b[0m\u001b[1;33m,\u001b[0m\u001b[1;33m\u001b[0m\u001b[1;33m\u001b[0m\u001b[0m\n",
      "\u001b[1;32m~\\Documents\\Electoral\\Electoral\\lib\\site-packages\\graphviz\\piping.py\u001b[0m in \u001b[0;36m_pipe_future\u001b[1;34m(self, format, renderer, formatter, quiet, engine, encoding)\u001b[0m\n\u001b[0;32m    137\u001b[0m             \u001b[1;32mif\u001b[0m \u001b[0mcodecs\u001b[0m\u001b[1;33m.\u001b[0m\u001b[0mlookup\u001b[0m\u001b[1;33m(\u001b[0m\u001b[0mencoding\u001b[0m\u001b[1;33m)\u001b[0m \u001b[1;32mis\u001b[0m \u001b[0mcodecs\u001b[0m\u001b[1;33m.\u001b[0m\u001b[0mlookup\u001b[0m\u001b[1;33m(\u001b[0m\u001b[0mself\u001b[0m\u001b[1;33m.\u001b[0m\u001b[0mencoding\u001b[0m\u001b[1;33m)\u001b[0m\u001b[1;33m:\u001b[0m\u001b[1;33m\u001b[0m\u001b[1;33m\u001b[0m\u001b[0m\n\u001b[0;32m    138\u001b[0m                 \u001b[1;31m# common case: both stdin and stdout need the same encoding\u001b[0m\u001b[1;33m\u001b[0m\u001b[1;33m\u001b[0m\u001b[1;33m\u001b[0m\u001b[0m\n\u001b[1;32m--> 139\u001b[1;33m                 \u001b[1;32mreturn\u001b[0m \u001b[0mself\u001b[0m\u001b[1;33m.\u001b[0m\u001b[0m_pipe_lines_string\u001b[0m\u001b[1;33m(\u001b[0m\u001b[1;33m*\u001b[0m\u001b[0margs\u001b[0m\u001b[1;33m,\u001b[0m \u001b[0mencoding\u001b[0m\u001b[1;33m=\u001b[0m\u001b[0mencoding\u001b[0m\u001b[1;33m,\u001b[0m \u001b[1;33m**\u001b[0m\u001b[0mkwargs\u001b[0m\u001b[1;33m)\u001b[0m\u001b[1;33m\u001b[0m\u001b[1;33m\u001b[0m\u001b[0m\n\u001b[0m\u001b[0;32m    140\u001b[0m             \u001b[1;32mtry\u001b[0m\u001b[1;33m:\u001b[0m\u001b[1;33m\u001b[0m\u001b[1;33m\u001b[0m\u001b[0m\n\u001b[0;32m    141\u001b[0m                 \u001b[0mraw\u001b[0m \u001b[1;33m=\u001b[0m \u001b[0mself\u001b[0m\u001b[1;33m.\u001b[0m\u001b[0m_pipe_lines\u001b[0m\u001b[1;33m(\u001b[0m\u001b[1;33m*\u001b[0m\u001b[0margs\u001b[0m\u001b[1;33m,\u001b[0m \u001b[0minput_encoding\u001b[0m\u001b[1;33m=\u001b[0m\u001b[0mself\u001b[0m\u001b[1;33m.\u001b[0m\u001b[0mencoding\u001b[0m\u001b[1;33m,\u001b[0m \u001b[1;33m**\u001b[0m\u001b[0mkwargs\u001b[0m\u001b[1;33m)\u001b[0m\u001b[1;33m\u001b[0m\u001b[1;33m\u001b[0m\u001b[0m\n",
      "\u001b[1;32m~\\Documents\\Electoral\\Electoral\\lib\\site-packages\\graphviz\\backend\\piping.py\u001b[0m in \u001b[0;36mpipe_lines_string\u001b[1;34m(engine, format, input_lines, encoding, renderer, formatter, quiet)\u001b[0m\n\u001b[0;32m    194\u001b[0m     \u001b[0mkwargs\u001b[0m \u001b[1;33m=\u001b[0m \u001b[1;33m{\u001b[0m\u001b[1;34m'input_lines'\u001b[0m\u001b[1;33m:\u001b[0m \u001b[0minput_lines\u001b[0m\u001b[1;33m,\u001b[0m \u001b[1;34m'encoding'\u001b[0m\u001b[1;33m:\u001b[0m \u001b[0mencoding\u001b[0m\u001b[1;33m}\u001b[0m\u001b[1;33m\u001b[0m\u001b[1;33m\u001b[0m\u001b[0m\n\u001b[0;32m    195\u001b[0m \u001b[1;33m\u001b[0m\u001b[0m\n\u001b[1;32m--> 196\u001b[1;33m     \u001b[0mproc\u001b[0m \u001b[1;33m=\u001b[0m \u001b[0mexecute\u001b[0m\u001b[1;33m.\u001b[0m\u001b[0mrun_check\u001b[0m\u001b[1;33m(\u001b[0m\u001b[0mcmd\u001b[0m\u001b[1;33m,\u001b[0m \u001b[0mcapture_output\u001b[0m\u001b[1;33m=\u001b[0m\u001b[1;32mTrue\u001b[0m\u001b[1;33m,\u001b[0m \u001b[0mquiet\u001b[0m\u001b[1;33m=\u001b[0m\u001b[0mquiet\u001b[0m\u001b[1;33m,\u001b[0m \u001b[1;33m**\u001b[0m\u001b[0mkwargs\u001b[0m\u001b[1;33m)\u001b[0m\u001b[1;33m\u001b[0m\u001b[1;33m\u001b[0m\u001b[0m\n\u001b[0m\u001b[0;32m    197\u001b[0m     \u001b[1;32mreturn\u001b[0m \u001b[0mproc\u001b[0m\u001b[1;33m.\u001b[0m\u001b[0mstdout\u001b[0m\u001b[1;33m\u001b[0m\u001b[1;33m\u001b[0m\u001b[0m\n",
      "\u001b[1;32m~\\Documents\\Electoral\\Electoral\\lib\\site-packages\\graphviz\\backend\\execute.py\u001b[0m in \u001b[0;36mrun_check\u001b[1;34m(cmd, input_lines, encoding, capture_output, quiet, **kwargs)\u001b[0m\n\u001b[0;32m     86\u001b[0m     \u001b[1;32mexcept\u001b[0m \u001b[0mOSError\u001b[0m \u001b[1;32mas\u001b[0m \u001b[0me\u001b[0m\u001b[1;33m:\u001b[0m\u001b[1;33m\u001b[0m\u001b[1;33m\u001b[0m\u001b[0m\n\u001b[0;32m     87\u001b[0m         \u001b[1;32mif\u001b[0m \u001b[0me\u001b[0m\u001b[1;33m.\u001b[0m\u001b[0merrno\u001b[0m \u001b[1;33m==\u001b[0m \u001b[0merrno\u001b[0m\u001b[1;33m.\u001b[0m\u001b[0mENOENT\u001b[0m\u001b[1;33m:\u001b[0m\u001b[1;33m\u001b[0m\u001b[1;33m\u001b[0m\u001b[0m\n\u001b[1;32m---> 88\u001b[1;33m             \u001b[1;32mraise\u001b[0m \u001b[0mExecutableNotFound\u001b[0m\u001b[1;33m(\u001b[0m\u001b[0mcmd\u001b[0m\u001b[1;33m)\u001b[0m \u001b[1;32mfrom\u001b[0m \u001b[0me\u001b[0m\u001b[1;33m\u001b[0m\u001b[1;33m\u001b[0m\u001b[0m\n\u001b[0m\u001b[0;32m     89\u001b[0m         \u001b[1;32mraise\u001b[0m\u001b[1;33m\u001b[0m\u001b[1;33m\u001b[0m\u001b[0m\n\u001b[0;32m     90\u001b[0m \u001b[1;33m\u001b[0m\u001b[0m\n",
      "\u001b[1;31mExecutableNotFound\u001b[0m: failed to execute WindowsPath('dot'), make sure the Graphviz executables are on your systems' PATH"
     ]
    },
    {
     "data": {
      "text/plain": [
       "<graphviz.sources.Source at 0x1f0c042f9a0>"
      ]
     },
     "execution_count": 160,
     "metadata": {},
     "output_type": "execute_result"
    }
   ],
   "source": [
    "import graphviz\n",
    "\n",
    "# DOT data\n",
    "dot_data = tree.export_graphviz(t, \n",
    "                                out_file=None, \n",
    "                                feature_names=d_att.columns,  # nombre de las variables\n",
    "                                class_names=['Vota por UNES', 'No vota por Unes'],\n",
    "                                filled=True)\n",
    "\n",
    "# Draw graph\n",
    "graph = graphviz.Source(dot_data, format=\"png\") \n",
    "graph\n",
    "\n",
    "\n",
    "# Source https://mljar.com/blog/visualize-decision-tree/"
   ]
  },
  {
   "cell_type": "code",
   "execution_count": 157,
   "id": "1658d267",
   "metadata": {},
   "outputs": [
    {
     "name": "stdout",
     "output_type": "stream",
     "text": [
      "|--- feature_18 <= 0.50\n",
      "|   |--- feature_68 <= 0.50\n",
      "|   |   |--- feature_112 <= 0.50\n",
      "|   |   |   |--- feature_2 <= 116.00\n",
      "|   |   |   |   |--- feature_2 <= 68.00\n",
      "|   |   |   |   |   |--- class: 0\n",
      "|   |   |   |   |--- feature_2 >  68.00\n",
      "|   |   |   |   |   |--- class: 0\n",
      "|   |   |   |--- feature_2 >  116.00\n",
      "|   |   |   |   |--- feature_1 <= 54.00\n",
      "|   |   |   |   |   |--- class: 0\n",
      "|   |   |   |   |--- feature_1 >  54.00\n",
      "|   |   |   |   |   |--- class: 0\n",
      "|   |   |--- feature_112 >  0.50\n",
      "|   |   |   |--- feature_86 <= 0.50\n",
      "|   |   |   |   |--- feature_42 <= 0.50\n",
      "|   |   |   |   |   |--- class: 0\n",
      "|   |   |   |   |--- feature_42 >  0.50\n",
      "|   |   |   |   |   |--- class: 0\n",
      "|   |   |   |--- feature_86 >  0.50\n",
      "|   |   |   |   |--- feature_5 <= 1.00\n",
      "|   |   |   |   |   |--- class: 0\n",
      "|   |   |   |   |--- feature_5 >  1.00\n",
      "|   |   |   |   |   |--- class: 0\n",
      "|   |--- feature_68 >  0.50\n",
      "|   |   |--- feature_47 <= 0.50\n",
      "|   |   |   |--- feature_2 <= 60.00\n",
      "|   |   |   |   |--- feature_36 <= 0.50\n",
      "|   |   |   |   |   |--- class: 0\n",
      "|   |   |   |   |--- feature_36 >  0.50\n",
      "|   |   |   |   |   |--- class: 0\n",
      "|   |   |   |--- feature_2 >  60.00\n",
      "|   |   |   |   |--- feature_10 <= 0.50\n",
      "|   |   |   |   |   |--- class: 0\n",
      "|   |   |   |   |--- feature_10 >  0.50\n",
      "|   |   |   |   |   |--- class: 0\n",
      "|   |   |--- feature_47 >  0.50\n",
      "|   |   |   |--- feature_13 <= 0.50\n",
      "|   |   |   |   |--- feature_121 <= 0.50\n",
      "|   |   |   |   |   |--- class: 0\n",
      "|   |   |   |   |--- feature_121 >  0.50\n",
      "|   |   |   |   |   |--- class: 0\n",
      "|   |   |   |--- feature_13 >  0.50\n",
      "|   |   |   |   |--- feature_0 <= 55.00\n",
      "|   |   |   |   |   |--- class: 0\n",
      "|   |   |   |   |--- feature_0 >  55.00\n",
      "|   |   |   |   |   |--- class: 0\n",
      "|--- feature_18 >  0.50\n",
      "|   |--- feature_4 <= 7.50\n",
      "|   |   |--- feature_1 <= 50.50\n",
      "|   |   |   |--- feature_70 <= 0.50\n",
      "|   |   |   |   |--- feature_11 <= 0.50\n",
      "|   |   |   |   |   |--- class: 0\n",
      "|   |   |   |   |--- feature_11 >  0.50\n",
      "|   |   |   |   |   |--- class: 0\n",
      "|   |   |   |--- feature_70 >  0.50\n",
      "|   |   |   |   |--- feature_89 <= 0.50\n",
      "|   |   |   |   |   |--- class: 0\n",
      "|   |   |   |   |--- feature_89 >  0.50\n",
      "|   |   |   |   |   |--- class: 0\n",
      "|   |   |--- feature_1 >  50.50\n",
      "|   |   |   |--- feature_116 <= 0.50\n",
      "|   |   |   |   |--- feature_34 <= 0.50\n",
      "|   |   |   |   |   |--- class: 0\n",
      "|   |   |   |   |--- feature_34 >  0.50\n",
      "|   |   |   |   |   |--- class: 0\n",
      "|   |   |   |--- feature_116 >  0.50\n",
      "|   |   |   |   |--- feature_0 <= 63.00\n",
      "|   |   |   |   |   |--- class: 0\n",
      "|   |   |   |   |--- feature_0 >  63.00\n",
      "|   |   |   |   |   |--- class: 0\n",
      "|   |--- feature_4 >  7.50\n",
      "|   |   |--- feature_102 <= 0.50\n",
      "|   |   |   |--- feature_5 <= 1.50\n",
      "|   |   |   |   |--- feature_35 <= 0.50\n",
      "|   |   |   |   |   |--- class: 0\n",
      "|   |   |   |   |--- feature_35 >  0.50\n",
      "|   |   |   |   |   |--- class: 0\n",
      "|   |   |   |--- feature_5 >  1.50\n",
      "|   |   |   |   |--- feature_13 <= 0.50\n",
      "|   |   |   |   |   |--- class: 0\n",
      "|   |   |   |   |--- feature_13 >  0.50\n",
      "|   |   |   |   |   |--- class: 0\n",
      "|   |   |--- feature_102 >  0.50\n",
      "|   |   |   |--- class: 0\n",
      "\n"
     ]
    }
   ],
   "source": [
    "text_representation = tree.export_text(t)\n",
    "print(text_representation)\n"
   ]
  },
  {
   "cell_type": "code",
   "execution_count": 86,
   "id": "936501a9",
   "metadata": {},
   "outputs": [
    {
     "name": "stdout",
     "output_type": "stream",
     "text": [
      "La precisión del modelo es: 0.80 (+/- 0.12)\n"
     ]
    }
   ],
   "source": [
    "from sklearn.model_selection import cross_val_score\n",
    "\n",
    "# Mostrar el promedio del puntaje +/- 2 desviaciones (95% de confianza)\n",
    "\n",
    "scores =  cross_val_score(t, d_att, d_pass, cv=5)\n",
    "print('La precisión del modelo es: %0.2f (+/- %0.2f)' % (scores.mean(), scores.std()*2))"
   ]
  },
  {
   "cell_type": "markdown",
   "id": "de8879b9",
   "metadata": {},
   "source": [
    "Realización de validación cruzada en todo el conjunto de datos que dividirá los datos en una base de 20/80, donde el 20% es el conjunto de prueba y el 80% está en el conjunto de entrenamiento. El resultado medio es del 67%. Esto muestra que tenemos un conjunto de datos bien equilibrado. Aquí tenemos varias opciones para hacer con respecto a max_dephth: "
   ]
  },
  {
   "cell_type": "code",
   "execution_count": 57,
   "id": "adbec203",
   "metadata": {},
   "outputs": [
    {
     "name": "stdout",
     "output_type": "stream",
     "text": [
      "Máxima profundidad: 1, Precisión: 0.88 (+/- 0.00)\n",
      "Máxima profundidad: 2, Precisión: 0.88 (+/- 0.01)\n",
      "Máxima profundidad: 3, Precisión: 0.87 (+/- 0.02)\n",
      "Máxima profundidad: 4, Precisión: 0.87 (+/- 0.03)\n",
      "Máxima profundidad: 5, Precisión: 0.86 (+/- 0.04)\n",
      "Máxima profundidad: 6, Precisión: 0.85 (+/- 0.06)\n",
      "Máxima profundidad: 7, Precisión: 0.84 (+/- 0.06)\n",
      "Máxima profundidad: 8, Precisión: 0.83 (+/- 0.07)\n",
      "Máxima profundidad: 9, Precisión: 0.82 (+/- 0.09)\n",
      "Máxima profundidad: 10, Precisión: 0.82 (+/- 0.09)\n",
      "Máxima profundidad: 11, Precisión: 0.82 (+/- 0.10)\n",
      "Máxima profundidad: 12, Precisión: 0.82 (+/- 0.10)\n",
      "Máxima profundidad: 13, Precisión: 0.80 (+/- 0.10)\n",
      "Máxima profundidad: 14, Precisión: 0.80 (+/- 0.12)\n",
      "Máxima profundidad: 15, Precisión: 0.80 (+/- 0.12)\n",
      "Máxima profundidad: 16, Precisión: 0.79 (+/- 0.12)\n",
      "Máxima profundidad: 17, Precisión: 0.80 (+/- 0.12)\n",
      "Máxima profundidad: 18, Precisión: 0.79 (+/- 0.12)\n",
      "Máxima profundidad: 19, Precisión: 0.79 (+/- 0.12)\n"
     ]
    }
   ],
   "source": [
    "for max_depth in range(1, 20):\n",
    "    t = tree.DecisionTreeClassifier(criterion='entropy', max_depth=max_depth)\n",
    "    scores =  cross_val_score(t, d_att, d_pass, cv=5)\n",
    "    print('Máxima profundidad: %d, Precisión: %0.2f (+/- %0.2f)' % (max_depth, scores.mean(), scores.std()*2))"
   ]
  },
  {
   "cell_type": "code",
   "execution_count": 61,
   "id": "19e95b86",
   "metadata": {},
   "outputs": [
    {
     "data": {
      "text/plain": [
       "array([[1.00000000e+00, 8.83693464e-01, 5.49522968e-05],\n",
       "       [2.00000000e+00, 8.80151551e-01, 1.41540125e-02],\n",
       "       [3.00000000e+00, 8.72359343e-01, 1.98005451e-02],\n",
       "       [4.00000000e+00, 8.65629709e-01, 2.60709232e-02],\n",
       "       [5.00000000e+00, 8.56420737e-01, 3.96386956e-02],\n",
       "       [6.00000000e+00, 8.46031126e-01, 5.74328001e-02],\n",
       "       [7.00000000e+00, 8.33280241e-01, 6.29520905e-02],\n",
       "       [8.00000000e+00, 8.31273157e-01, 6.58836902e-02],\n",
       "       [9.00000000e+00, 8.23126758e-01, 8.49391931e-02],\n",
       "       [1.00000000e+01, 8.22064184e-01, 8.57973691e-02],\n",
       "       [1.10000000e+01, 8.18522271e-01, 9.77914576e-02],\n",
       "       [1.20000000e+01, 8.14271976e-01, 1.03365936e-01],\n",
       "       [1.30000000e+01, 8.04944940e-01, 1.01075490e-01],\n",
       "       [1.40000000e+01, 7.99632071e-01, 1.10183369e-01],\n",
       "       [1.50000000e+01, 7.94083074e-01, 1.19294043e-01],\n",
       "       [1.60000000e+01, 7.93492755e-01, 1.23487295e-01],\n",
       "       [1.70000000e+01, 7.94083074e-01, 1.12330057e-01],\n",
       "       [1.80000000e+01, 7.93492755e-01, 1.24449783e-01],\n",
       "       [1.90000000e+01, 7.95145648e-01, 1.17461394e-01]])"
      ]
     },
     "execution_count": 61,
     "metadata": {},
     "output_type": "execute_result"
    }
   ],
   "source": [
    "depth_acc = np.empty((19, 3), float)\n",
    "i = 0\n",
    "for max_depth in range(1, 20):\n",
    "    t = tree.DecisionTreeClassifier(criterion='entropy', max_depth=max_depth)\n",
    "    scores =  cross_val_score(t, d_att, d_pass, cv=5)\n",
    "    depth_acc[i, 0] = max_depth\n",
    "    depth_acc[i, 1] = scores.mean()\n",
    "    depth_acc[i, 2] = scores.std()*2\n",
    "    i += 1\n",
    "    \n",
    "depth_acc"
   ]
  },
  {
   "cell_type": "markdown",
   "id": "d14f7caa",
   "metadata": {},
   "source": [
    "Usamos varios valores max_dephth de 1 a 20, considerando que hacemos un árbol con una pregunta o con 20 preguntas que tienen un valor de profundidad de 20, lo que nos dará preguntas de más de 20, lo que significa que tendrá que bajar 20 pasos para llegar a un nodo de hoja. . Aquí volvemos a realizar una validación cruzada y guardamos e imprimimos nuestra respuesta. Esto le dará una precisión y cálculos diferentes. Al analizarlo, se encontró que con una profundidad de 2 y 3, la precisión es la mejor, lo que se comparó con la precisión promedio que encontramos anteriormente. La siguiente captura de pantalla muestra los datos que usaremos para crear el gráfico:\n",
    "Realización de validación cruzada en todo el conjunto de datos que dividirá los datos en una base de 20/80, donde el 20% es el conjunto de prueba y el 80% está en el conjunto de entrenamiento. El resultado medio es del 67%. Esto muestra que tenemos un conjunto de datos bien equilibrado. Aquí tenemos varias opciones para hacer con respecto a max_dephth:"
   ]
  },
  {
   "cell_type": "code",
   "execution_count": 62,
   "id": "22d73102",
   "metadata": {},
   "outputs": [
    {
     "data": {
      "image/png": "[encoded data removed]",
      "text/plain": [
       "<Figure size 432x288 with 1 Axes>"
      ]
     },
     "metadata": {
      "needs_background": "light"
     },
     "output_type": "display_data"
    }
   ],
   "source": [
    "import matplotlib.pyplot as plt\n",
    "fi, ax = plt.subplots()\n",
    "ax.errorbar(depth_acc[ :, 0], depth_acc[ :, 1], yerr=depth_acc[ :, 2])\n",
    "plt.show()"
   ]
  }
 ],
 "metadata": {
  "kernelspec": {
   "display_name": "Electoral",
   "language": "python",
   "name": "electoral"
  },
  "language_info": {
   "codemirror_mode": {
    "name": "ipython",
    "version": 3
   },
   "file_extension": ".py",
   "mimetype": "text/x-python",
   "name": "python",
   "nbconvert_exporter": "python",
   "pygments_lexer": "ipython3",
   "version": "3.9.1"
  }
 },
 "nbformat": 4,
 "nbformat_minor": 5
}
